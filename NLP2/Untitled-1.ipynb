{
 "cells": [
  {
   "cell_type": "code",
   "execution_count": 3,
   "metadata": {},
   "outputs": [],
   "source": [
    "import numpy as np\n",
    "import pandas as pd\n",
    "import matplotlib.pyplot as plt\n",
    "import seaborn as sns"
   ]
  },
  {
   "cell_type": "code",
   "execution_count": 1,
   "metadata": {},
   "outputs": [],
   "source": [
    "path = r\"D:\\PythonEnvironment\\Kaggle\\Fast Delivery Agent Reviews.csv\""
   ]
  },
  {
   "cell_type": "code",
   "execution_count": 4,
   "metadata": {},
   "outputs": [],
   "source": [
    "data = pd.read_csv(path)"
   ]
  },
  {
   "cell_type": "code",
   "execution_count": 5,
   "metadata": {},
   "outputs": [
    {
     "data": {
      "application/vnd.microsoft.datawrangler.viewer.v0+json": {
       "columns": [
        {
         "name": "index",
         "rawType": "int64",
         "type": "integer"
        },
        {
         "name": "Agent Name",
         "rawType": "object",
         "type": "string"
        },
        {
         "name": "Rating",
         "rawType": "float64",
         "type": "float"
        },
        {
         "name": "Review Text",
         "rawType": "object",
         "type": "string"
        },
        {
         "name": "Delivery Time (min)",
         "rawType": "int64",
         "type": "integer"
        },
        {
         "name": "Location",
         "rawType": "object",
         "type": "string"
        },
        {
         "name": "Order Type",
         "rawType": "object",
         "type": "string"
        },
        {
         "name": "Customer Feedback Type",
         "rawType": "object",
         "type": "string"
        },
        {
         "name": "Price Range",
         "rawType": "object",
         "type": "string"
        },
        {
         "name": "Discount Applied",
         "rawType": "object",
         "type": "string"
        },
        {
         "name": "Product Availability",
         "rawType": "object",
         "type": "string"
        },
        {
         "name": "Customer Service Rating",
         "rawType": "int64",
         "type": "integer"
        },
        {
         "name": "Order Accuracy",
         "rawType": "object",
         "type": "string"
        }
       ],
       "conversionMethod": "pd.DataFrame",
       "ref": "60b02aa1-bc78-4fa7-88ce-b76e8e6268a4",
       "rows": [
        [
         "0",
         "Zepto",
         "4.5",
         "Purpose boy job cup decision girl now get job yard.",
         "58",
         "Delhi",
         "Essentials",
         "Neutral",
         "High",
         "Yes",
         "Out of Stock",
         "4",
         "Incorrect"
        ],
        [
         "1",
         "Zepto",
         "2.1",
         "Prevent production able both the box school way issue grow action figure one.",
         "25",
         "Lucknow",
         "Grocery",
         "Negative",
         "Low",
         "No",
         "Out of Stock",
         "2",
         "Correct"
        ],
        [
         "2",
         "JioMart",
         "4.5",
         "Family station listen agreement more kitchen lose hour hour.",
         "54",
         "Ahmedabad",
         "Essentials",
         "Neutral",
         "Low",
         "No",
         "Out of Stock",
         "3",
         "Correct"
        ],
        [
         "3",
         "JioMart",
         "2.6",
         "World north people area everything enter beyond Democrat beautiful very.",
         "22",
         "Chennai",
         "Essentials",
         "Neutral",
         "Low",
         "Yes",
         "In Stock",
         "1",
         "Incorrect"
        ],
        [
         "4",
         "Zepto",
         "3.6",
         "Hand way yourself tax whether sister anyone effect fact hospital dream party.",
         "34",
         "Pune",
         "Pharmacy",
         "Positive",
         "High",
         "No",
         "In Stock",
         "2",
         "Incorrect"
        ]
       ],
       "shape": {
        "columns": 12,
        "rows": 5
       }
      },
      "text/html": [
       "<div>\n",
       "<style scoped>\n",
       "    .dataframe tbody tr th:only-of-type {\n",
       "        vertical-align: middle;\n",
       "    }\n",
       "\n",
       "    .dataframe tbody tr th {\n",
       "        vertical-align: top;\n",
       "    }\n",
       "\n",
       "    .dataframe thead th {\n",
       "        text-align: right;\n",
       "    }\n",
       "</style>\n",
       "<table border=\"1\" class=\"dataframe\">\n",
       "  <thead>\n",
       "    <tr style=\"text-align: right;\">\n",
       "      <th></th>\n",
       "      <th>Agent Name</th>\n",
       "      <th>Rating</th>\n",
       "      <th>Review Text</th>\n",
       "      <th>Delivery Time (min)</th>\n",
       "      <th>Location</th>\n",
       "      <th>Order Type</th>\n",
       "      <th>Customer Feedback Type</th>\n",
       "      <th>Price Range</th>\n",
       "      <th>Discount Applied</th>\n",
       "      <th>Product Availability</th>\n",
       "      <th>Customer Service Rating</th>\n",
       "      <th>Order Accuracy</th>\n",
       "    </tr>\n",
       "  </thead>\n",
       "  <tbody>\n",
       "    <tr>\n",
       "      <th>0</th>\n",
       "      <td>Zepto</td>\n",
       "      <td>4.5</td>\n",
       "      <td>Purpose boy job cup decision girl now get job ...</td>\n",
       "      <td>58</td>\n",
       "      <td>Delhi</td>\n",
       "      <td>Essentials</td>\n",
       "      <td>Neutral</td>\n",
       "      <td>High</td>\n",
       "      <td>Yes</td>\n",
       "      <td>Out of Stock</td>\n",
       "      <td>4</td>\n",
       "      <td>Incorrect</td>\n",
       "    </tr>\n",
       "    <tr>\n",
       "      <th>1</th>\n",
       "      <td>Zepto</td>\n",
       "      <td>2.1</td>\n",
       "      <td>Prevent production able both the box school wa...</td>\n",
       "      <td>25</td>\n",
       "      <td>Lucknow</td>\n",
       "      <td>Grocery</td>\n",
       "      <td>Negative</td>\n",
       "      <td>Low</td>\n",
       "      <td>No</td>\n",
       "      <td>Out of Stock</td>\n",
       "      <td>2</td>\n",
       "      <td>Correct</td>\n",
       "    </tr>\n",
       "    <tr>\n",
       "      <th>2</th>\n",
       "      <td>JioMart</td>\n",
       "      <td>4.5</td>\n",
       "      <td>Family station listen agreement more kitchen l...</td>\n",
       "      <td>54</td>\n",
       "      <td>Ahmedabad</td>\n",
       "      <td>Essentials</td>\n",
       "      <td>Neutral</td>\n",
       "      <td>Low</td>\n",
       "      <td>No</td>\n",
       "      <td>Out of Stock</td>\n",
       "      <td>3</td>\n",
       "      <td>Correct</td>\n",
       "    </tr>\n",
       "    <tr>\n",
       "      <th>3</th>\n",
       "      <td>JioMart</td>\n",
       "      <td>2.6</td>\n",
       "      <td>World north people area everything enter beyon...</td>\n",
       "      <td>22</td>\n",
       "      <td>Chennai</td>\n",
       "      <td>Essentials</td>\n",
       "      <td>Neutral</td>\n",
       "      <td>Low</td>\n",
       "      <td>Yes</td>\n",
       "      <td>In Stock</td>\n",
       "      <td>1</td>\n",
       "      <td>Incorrect</td>\n",
       "    </tr>\n",
       "    <tr>\n",
       "      <th>4</th>\n",
       "      <td>Zepto</td>\n",
       "      <td>3.6</td>\n",
       "      <td>Hand way yourself tax whether sister anyone ef...</td>\n",
       "      <td>34</td>\n",
       "      <td>Pune</td>\n",
       "      <td>Pharmacy</td>\n",
       "      <td>Positive</td>\n",
       "      <td>High</td>\n",
       "      <td>No</td>\n",
       "      <td>In Stock</td>\n",
       "      <td>2</td>\n",
       "      <td>Incorrect</td>\n",
       "    </tr>\n",
       "  </tbody>\n",
       "</table>\n",
       "</div>"
      ],
      "text/plain": [
       "  Agent Name  Rating                                        Review Text  \\\n",
       "0      Zepto     4.5  Purpose boy job cup decision girl now get job ...   \n",
       "1      Zepto     2.1  Prevent production able both the box school wa...   \n",
       "2    JioMart     4.5  Family station listen agreement more kitchen l...   \n",
       "3    JioMart     2.6  World north people area everything enter beyon...   \n",
       "4      Zepto     3.6  Hand way yourself tax whether sister anyone ef...   \n",
       "\n",
       "   Delivery Time (min)   Location  Order Type Customer Feedback Type  \\\n",
       "0                   58      Delhi  Essentials                Neutral   \n",
       "1                   25    Lucknow     Grocery               Negative   \n",
       "2                   54  Ahmedabad  Essentials                Neutral   \n",
       "3                   22    Chennai  Essentials                Neutral   \n",
       "4                   34       Pune    Pharmacy               Positive   \n",
       "\n",
       "  Price Range Discount Applied Product Availability  Customer Service Rating  \\\n",
       "0        High              Yes         Out of Stock                        4   \n",
       "1         Low               No         Out of Stock                        2   \n",
       "2         Low               No         Out of Stock                        3   \n",
       "3         Low              Yes             In Stock                        1   \n",
       "4        High               No             In Stock                        2   \n",
       "\n",
       "  Order Accuracy  \n",
       "0      Incorrect  \n",
       "1        Correct  \n",
       "2        Correct  \n",
       "3      Incorrect  \n",
       "4      Incorrect  "
      ]
     },
     "execution_count": 5,
     "metadata": {},
     "output_type": "execute_result"
    }
   ],
   "source": [
    "data.head()"
   ]
  },
  {
   "cell_type": "code",
   "execution_count": 6,
   "metadata": {},
   "outputs": [
    {
     "data": {
      "text/plain": [
       "(5000, 12)"
      ]
     },
     "execution_count": 6,
     "metadata": {},
     "output_type": "execute_result"
    }
   ],
   "source": [
    "data.shape"
   ]
  },
  {
   "cell_type": "code",
   "execution_count": 7,
   "metadata": {},
   "outputs": [
    {
     "name": "stdout",
     "output_type": "stream",
     "text": [
      "<class 'pandas.core.frame.DataFrame'>\n",
      "RangeIndex: 5000 entries, 0 to 4999\n",
      "Data columns (total 12 columns):\n",
      " #   Column                   Non-Null Count  Dtype  \n",
      "---  ------                   --------------  -----  \n",
      " 0   Agent Name               5000 non-null   object \n",
      " 1   Rating                   5000 non-null   float64\n",
      " 2   Review Text              5000 non-null   object \n",
      " 3   Delivery Time (min)      5000 non-null   int64  \n",
      " 4   Location                 5000 non-null   object \n",
      " 5   Order Type               5000 non-null   object \n",
      " 6   Customer Feedback Type   5000 non-null   object \n",
      " 7   Price Range              5000 non-null   object \n",
      " 8   Discount Applied         5000 non-null   object \n",
      " 9   Product Availability     5000 non-null   object \n",
      " 10  Customer Service Rating  5000 non-null   int64  \n",
      " 11  Order Accuracy           5000 non-null   object \n",
      "dtypes: float64(1), int64(2), object(9)\n",
      "memory usage: 468.9+ KB\n"
     ]
    }
   ],
   "source": [
    "data.info()"
   ]
  },
  {
   "cell_type": "code",
   "execution_count": 8,
   "metadata": {},
   "outputs": [
    {
     "data": {
      "application/vnd.microsoft.datawrangler.viewer.v0+json": {
       "columns": [
        {
         "name": "index",
         "rawType": "object",
         "type": "string"
        },
        {
         "name": "Agent Name",
         "rawType": "object",
         "type": "unknown"
        },
        {
         "name": "Rating",
         "rawType": "float64",
         "type": "float"
        },
        {
         "name": "Review Text",
         "rawType": "object",
         "type": "unknown"
        },
        {
         "name": "Delivery Time (min)",
         "rawType": "float64",
         "type": "float"
        },
        {
         "name": "Location",
         "rawType": "object",
         "type": "unknown"
        },
        {
         "name": "Order Type",
         "rawType": "object",
         "type": "unknown"
        },
        {
         "name": "Customer Feedback Type",
         "rawType": "object",
         "type": "unknown"
        },
        {
         "name": "Price Range",
         "rawType": "object",
         "type": "unknown"
        },
        {
         "name": "Discount Applied",
         "rawType": "object",
         "type": "unknown"
        },
        {
         "name": "Product Availability",
         "rawType": "object",
         "type": "unknown"
        },
        {
         "name": "Customer Service Rating",
         "rawType": "float64",
         "type": "float"
        },
        {
         "name": "Order Accuracy",
         "rawType": "object",
         "type": "unknown"
        }
       ],
       "conversionMethod": "pd.DataFrame",
       "ref": "aafad844-8595-49fa-a9d2-52b01d965e8d",
       "rows": [
        [
         "count",
         "5000",
         "5000.0",
         "5000",
         "5000.0",
         "5000",
         "5000",
         "5000",
         "5000",
         "5000",
         "5000",
         "5000.0",
         "5000"
        ],
        [
         "unique",
         "4",
         null,
         "5000",
         null,
         "10",
         "5",
         "3",
         "3",
         "2",
         "2",
         null,
         "2"
        ],
        [
         "top",
         "Zepto",
         null,
         "Purpose boy job cup decision girl now get job yard.",
         null,
         "Kolkata",
         "Electronics",
         "Negative",
         "High",
         "Yes",
         "Out of Stock",
         null,
         "Correct"
        ],
        [
         "freq",
         "1282",
         null,
         "1",
         null,
         "517",
         "1008",
         "1727",
         "1696",
         "2537",
         "2503",
         null,
         "2515"
        ],
        [
         "mean",
         null,
         "3.0029",
         null,
         "34.9624",
         null,
         null,
         null,
         null,
         null,
         null,
         "2.972",
         null
        ],
        [
         "std",
         null,
         "1.1521402151713493",
         null,
         "14.789656284937974",
         null,
         null,
         null,
         null,
         null,
         null,
         "1.409969362333999",
         null
        ],
        [
         "min",
         null,
         "1.0",
         null,
         "10.0",
         null,
         null,
         null,
         null,
         null,
         null,
         "1.0",
         null
        ],
        [
         "25%",
         null,
         "2.0",
         null,
         "22.0",
         null,
         null,
         null,
         null,
         null,
         null,
         "2.0",
         null
        ],
        [
         "50%",
         null,
         "3.0",
         null,
         "35.0",
         null,
         null,
         null,
         null,
         null,
         null,
         "3.0",
         null
        ],
        [
         "75%",
         null,
         "4.0",
         null,
         "48.0",
         null,
         null,
         null,
         null,
         null,
         null,
         "4.0",
         null
        ],
        [
         "max",
         null,
         "5.0",
         null,
         "60.0",
         null,
         null,
         null,
         null,
         null,
         null,
         "5.0",
         null
        ]
       ],
       "shape": {
        "columns": 12,
        "rows": 11
       }
      },
      "text/html": [
       "<div>\n",
       "<style scoped>\n",
       "    .dataframe tbody tr th:only-of-type {\n",
       "        vertical-align: middle;\n",
       "    }\n",
       "\n",
       "    .dataframe tbody tr th {\n",
       "        vertical-align: top;\n",
       "    }\n",
       "\n",
       "    .dataframe thead th {\n",
       "        text-align: right;\n",
       "    }\n",
       "</style>\n",
       "<table border=\"1\" class=\"dataframe\">\n",
       "  <thead>\n",
       "    <tr style=\"text-align: right;\">\n",
       "      <th></th>\n",
       "      <th>Agent Name</th>\n",
       "      <th>Rating</th>\n",
       "      <th>Review Text</th>\n",
       "      <th>Delivery Time (min)</th>\n",
       "      <th>Location</th>\n",
       "      <th>Order Type</th>\n",
       "      <th>Customer Feedback Type</th>\n",
       "      <th>Price Range</th>\n",
       "      <th>Discount Applied</th>\n",
       "      <th>Product Availability</th>\n",
       "      <th>Customer Service Rating</th>\n",
       "      <th>Order Accuracy</th>\n",
       "    </tr>\n",
       "  </thead>\n",
       "  <tbody>\n",
       "    <tr>\n",
       "      <th>count</th>\n",
       "      <td>5000</td>\n",
       "      <td>5000.00000</td>\n",
       "      <td>5000</td>\n",
       "      <td>5000.000000</td>\n",
       "      <td>5000</td>\n",
       "      <td>5000</td>\n",
       "      <td>5000</td>\n",
       "      <td>5000</td>\n",
       "      <td>5000</td>\n",
       "      <td>5000</td>\n",
       "      <td>5000.000000</td>\n",
       "      <td>5000</td>\n",
       "    </tr>\n",
       "    <tr>\n",
       "      <th>unique</th>\n",
       "      <td>4</td>\n",
       "      <td>NaN</td>\n",
       "      <td>5000</td>\n",
       "      <td>NaN</td>\n",
       "      <td>10</td>\n",
       "      <td>5</td>\n",
       "      <td>3</td>\n",
       "      <td>3</td>\n",
       "      <td>2</td>\n",
       "      <td>2</td>\n",
       "      <td>NaN</td>\n",
       "      <td>2</td>\n",
       "    </tr>\n",
       "    <tr>\n",
       "      <th>top</th>\n",
       "      <td>Zepto</td>\n",
       "      <td>NaN</td>\n",
       "      <td>Purpose boy job cup decision girl now get job ...</td>\n",
       "      <td>NaN</td>\n",
       "      <td>Kolkata</td>\n",
       "      <td>Electronics</td>\n",
       "      <td>Negative</td>\n",
       "      <td>High</td>\n",
       "      <td>Yes</td>\n",
       "      <td>Out of Stock</td>\n",
       "      <td>NaN</td>\n",
       "      <td>Correct</td>\n",
       "    </tr>\n",
       "    <tr>\n",
       "      <th>freq</th>\n",
       "      <td>1282</td>\n",
       "      <td>NaN</td>\n",
       "      <td>1</td>\n",
       "      <td>NaN</td>\n",
       "      <td>517</td>\n",
       "      <td>1008</td>\n",
       "      <td>1727</td>\n",
       "      <td>1696</td>\n",
       "      <td>2537</td>\n",
       "      <td>2503</td>\n",
       "      <td>NaN</td>\n",
       "      <td>2515</td>\n",
       "    </tr>\n",
       "    <tr>\n",
       "      <th>mean</th>\n",
       "      <td>NaN</td>\n",
       "      <td>3.00290</td>\n",
       "      <td>NaN</td>\n",
       "      <td>34.962400</td>\n",
       "      <td>NaN</td>\n",
       "      <td>NaN</td>\n",
       "      <td>NaN</td>\n",
       "      <td>NaN</td>\n",
       "      <td>NaN</td>\n",
       "      <td>NaN</td>\n",
       "      <td>2.972000</td>\n",
       "      <td>NaN</td>\n",
       "    </tr>\n",
       "    <tr>\n",
       "      <th>std</th>\n",
       "      <td>NaN</td>\n",
       "      <td>1.15214</td>\n",
       "      <td>NaN</td>\n",
       "      <td>14.789656</td>\n",
       "      <td>NaN</td>\n",
       "      <td>NaN</td>\n",
       "      <td>NaN</td>\n",
       "      <td>NaN</td>\n",
       "      <td>NaN</td>\n",
       "      <td>NaN</td>\n",
       "      <td>1.409969</td>\n",
       "      <td>NaN</td>\n",
       "    </tr>\n",
       "    <tr>\n",
       "      <th>min</th>\n",
       "      <td>NaN</td>\n",
       "      <td>1.00000</td>\n",
       "      <td>NaN</td>\n",
       "      <td>10.000000</td>\n",
       "      <td>NaN</td>\n",
       "      <td>NaN</td>\n",
       "      <td>NaN</td>\n",
       "      <td>NaN</td>\n",
       "      <td>NaN</td>\n",
       "      <td>NaN</td>\n",
       "      <td>1.000000</td>\n",
       "      <td>NaN</td>\n",
       "    </tr>\n",
       "    <tr>\n",
       "      <th>25%</th>\n",
       "      <td>NaN</td>\n",
       "      <td>2.00000</td>\n",
       "      <td>NaN</td>\n",
       "      <td>22.000000</td>\n",
       "      <td>NaN</td>\n",
       "      <td>NaN</td>\n",
       "      <td>NaN</td>\n",
       "      <td>NaN</td>\n",
       "      <td>NaN</td>\n",
       "      <td>NaN</td>\n",
       "      <td>2.000000</td>\n",
       "      <td>NaN</td>\n",
       "    </tr>\n",
       "    <tr>\n",
       "      <th>50%</th>\n",
       "      <td>NaN</td>\n",
       "      <td>3.00000</td>\n",
       "      <td>NaN</td>\n",
       "      <td>35.000000</td>\n",
       "      <td>NaN</td>\n",
       "      <td>NaN</td>\n",
       "      <td>NaN</td>\n",
       "      <td>NaN</td>\n",
       "      <td>NaN</td>\n",
       "      <td>NaN</td>\n",
       "      <td>3.000000</td>\n",
       "      <td>NaN</td>\n",
       "    </tr>\n",
       "    <tr>\n",
       "      <th>75%</th>\n",
       "      <td>NaN</td>\n",
       "      <td>4.00000</td>\n",
       "      <td>NaN</td>\n",
       "      <td>48.000000</td>\n",
       "      <td>NaN</td>\n",
       "      <td>NaN</td>\n",
       "      <td>NaN</td>\n",
       "      <td>NaN</td>\n",
       "      <td>NaN</td>\n",
       "      <td>NaN</td>\n",
       "      <td>4.000000</td>\n",
       "      <td>NaN</td>\n",
       "    </tr>\n",
       "    <tr>\n",
       "      <th>max</th>\n",
       "      <td>NaN</td>\n",
       "      <td>5.00000</td>\n",
       "      <td>NaN</td>\n",
       "      <td>60.000000</td>\n",
       "      <td>NaN</td>\n",
       "      <td>NaN</td>\n",
       "      <td>NaN</td>\n",
       "      <td>NaN</td>\n",
       "      <td>NaN</td>\n",
       "      <td>NaN</td>\n",
       "      <td>5.000000</td>\n",
       "      <td>NaN</td>\n",
       "    </tr>\n",
       "  </tbody>\n",
       "</table>\n",
       "</div>"
      ],
      "text/plain": [
       "       Agent Name      Rating  \\\n",
       "count        5000  5000.00000   \n",
       "unique          4         NaN   \n",
       "top         Zepto         NaN   \n",
       "freq         1282         NaN   \n",
       "mean          NaN     3.00290   \n",
       "std           NaN     1.15214   \n",
       "min           NaN     1.00000   \n",
       "25%           NaN     2.00000   \n",
       "50%           NaN     3.00000   \n",
       "75%           NaN     4.00000   \n",
       "max           NaN     5.00000   \n",
       "\n",
       "                                              Review Text  \\\n",
       "count                                                5000   \n",
       "unique                                               5000   \n",
       "top     Purpose boy job cup decision girl now get job ...   \n",
       "freq                                                    1   \n",
       "mean                                                  NaN   \n",
       "std                                                   NaN   \n",
       "min                                                   NaN   \n",
       "25%                                                   NaN   \n",
       "50%                                                   NaN   \n",
       "75%                                                   NaN   \n",
       "max                                                   NaN   \n",
       "\n",
       "        Delivery Time (min) Location   Order Type Customer Feedback Type  \\\n",
       "count           5000.000000     5000         5000                   5000   \n",
       "unique                  NaN       10            5                      3   \n",
       "top                     NaN  Kolkata  Electronics               Negative   \n",
       "freq                    NaN      517         1008                   1727   \n",
       "mean              34.962400      NaN          NaN                    NaN   \n",
       "std               14.789656      NaN          NaN                    NaN   \n",
       "min               10.000000      NaN          NaN                    NaN   \n",
       "25%               22.000000      NaN          NaN                    NaN   \n",
       "50%               35.000000      NaN          NaN                    NaN   \n",
       "75%               48.000000      NaN          NaN                    NaN   \n",
       "max               60.000000      NaN          NaN                    NaN   \n",
       "\n",
       "       Price Range Discount Applied Product Availability  \\\n",
       "count         5000             5000                 5000   \n",
       "unique           3                2                    2   \n",
       "top           High              Yes         Out of Stock   \n",
       "freq          1696             2537                 2503   \n",
       "mean           NaN              NaN                  NaN   \n",
       "std            NaN              NaN                  NaN   \n",
       "min            NaN              NaN                  NaN   \n",
       "25%            NaN              NaN                  NaN   \n",
       "50%            NaN              NaN                  NaN   \n",
       "75%            NaN              NaN                  NaN   \n",
       "max            NaN              NaN                  NaN   \n",
       "\n",
       "        Customer Service Rating Order Accuracy  \n",
       "count               5000.000000           5000  \n",
       "unique                      NaN              2  \n",
       "top                         NaN        Correct  \n",
       "freq                        NaN           2515  \n",
       "mean                   2.972000            NaN  \n",
       "std                    1.409969            NaN  \n",
       "min                    1.000000            NaN  \n",
       "25%                    2.000000            NaN  \n",
       "50%                    3.000000            NaN  \n",
       "75%                    4.000000            NaN  \n",
       "max                    5.000000            NaN  "
      ]
     },
     "execution_count": 8,
     "metadata": {},
     "output_type": "execute_result"
    }
   ],
   "source": [
    "data.describe(include='all')"
   ]
  },
  {
   "cell_type": "code",
   "execution_count": 9,
   "metadata": {},
   "outputs": [
    {
     "data": {
      "text/plain": [
       "Agent Name\n",
       "Zepto               1282\n",
       "Blinkit             1272\n",
       "JioMart             1224\n",
       "Swiggy Instamart    1222\n",
       "Name: count, dtype: int64"
      ]
     },
     "execution_count": 9,
     "metadata": {},
     "output_type": "execute_result"
    }
   ],
   "source": [
    "data['Agent Name'].value_counts()"
   ]
  },
  {
   "cell_type": "code",
   "execution_count": 11,
   "metadata": {},
   "outputs": [
    {
     "data": {
      "application/vnd.microsoft.datawrangler.viewer.v0+json": {
       "columns": [
        {
         "name": "Agent Name",
         "rawType": "object",
         "type": "string"
        },
        {
         "name": "Rating",
         "rawType": "float64",
         "type": "float"
        }
       ],
       "conversionMethod": "pd.DataFrame",
       "ref": "ca70eeb5-b1ba-4a2d-91f3-0480c96c3239",
       "rows": [
        [
         "Swiggy Instamart",
         "3.0183306055646484"
        ],
        [
         "Zepto",
         "3.0145085803432137"
        ],
        [
         "Blinkit",
         "2.993238993710692"
        ],
        [
         "JioMart",
         "2.985375816993464"
        ]
       ],
       "shape": {
        "columns": 1,
        "rows": 4
       }
      },
      "text/html": [
       "<div>\n",
       "<style scoped>\n",
       "    .dataframe tbody tr th:only-of-type {\n",
       "        vertical-align: middle;\n",
       "    }\n",
       "\n",
       "    .dataframe tbody tr th {\n",
       "        vertical-align: top;\n",
       "    }\n",
       "\n",
       "    .dataframe thead th {\n",
       "        text-align: right;\n",
       "    }\n",
       "</style>\n",
       "<table border=\"1\" class=\"dataframe\">\n",
       "  <thead>\n",
       "    <tr style=\"text-align: right;\">\n",
       "      <th></th>\n",
       "      <th>Rating</th>\n",
       "    </tr>\n",
       "    <tr>\n",
       "      <th>Agent Name</th>\n",
       "      <th></th>\n",
       "    </tr>\n",
       "  </thead>\n",
       "  <tbody>\n",
       "    <tr>\n",
       "      <th>Swiggy Instamart</th>\n",
       "      <td>3.018331</td>\n",
       "    </tr>\n",
       "    <tr>\n",
       "      <th>Zepto</th>\n",
       "      <td>3.014509</td>\n",
       "    </tr>\n",
       "    <tr>\n",
       "      <th>Blinkit</th>\n",
       "      <td>2.993239</td>\n",
       "    </tr>\n",
       "    <tr>\n",
       "      <th>JioMart</th>\n",
       "      <td>2.985376</td>\n",
       "    </tr>\n",
       "  </tbody>\n",
       "</table>\n",
       "</div>"
      ],
      "text/plain": [
       "                    Rating\n",
       "Agent Name                \n",
       "Swiggy Instamart  3.018331\n",
       "Zepto             3.014509\n",
       "Blinkit           2.993239\n",
       "JioMart           2.985376"
      ]
     },
     "execution_count": 11,
     "metadata": {},
     "output_type": "execute_result"
    }
   ],
   "source": [
    "data[['Agent Name', 'Rating']].groupby('Agent Name').mean().sort_values(by='Rating', ascending=False)"
   ]
  },
  {
   "cell_type": "code",
   "execution_count": 12,
   "metadata": {},
   "outputs": [
    {
     "data": {
      "application/vnd.microsoft.datawrangler.viewer.v0+json": {
       "columns": [
        {
         "name": "Agent Name",
         "rawType": "object",
         "type": "string"
        },
        {
         "name": "Delivery Time (min)",
         "rawType": "float64",
         "type": "float"
        }
       ],
       "conversionMethod": "pd.DataFrame",
       "ref": "c1a6583f-0c09-47ae-a2af-dd3913d75ace",
       "rows": [
        [
         "Swiggy Instamart",
         "35.11947626841244"
        ],
        [
         "Zepto",
         "35.0616224648986"
        ],
        [
         "JioMart",
         "35.02696078431372"
        ],
        [
         "Blinkit",
         "34.649371069182386"
        ]
       ],
       "shape": {
        "columns": 1,
        "rows": 4
       }
      },
      "text/html": [
       "<div>\n",
       "<style scoped>\n",
       "    .dataframe tbody tr th:only-of-type {\n",
       "        vertical-align: middle;\n",
       "    }\n",
       "\n",
       "    .dataframe tbody tr th {\n",
       "        vertical-align: top;\n",
       "    }\n",
       "\n",
       "    .dataframe thead th {\n",
       "        text-align: right;\n",
       "    }\n",
       "</style>\n",
       "<table border=\"1\" class=\"dataframe\">\n",
       "  <thead>\n",
       "    <tr style=\"text-align: right;\">\n",
       "      <th></th>\n",
       "      <th>Delivery Time (min)</th>\n",
       "    </tr>\n",
       "    <tr>\n",
       "      <th>Agent Name</th>\n",
       "      <th></th>\n",
       "    </tr>\n",
       "  </thead>\n",
       "  <tbody>\n",
       "    <tr>\n",
       "      <th>Swiggy Instamart</th>\n",
       "      <td>35.119476</td>\n",
       "    </tr>\n",
       "    <tr>\n",
       "      <th>Zepto</th>\n",
       "      <td>35.061622</td>\n",
       "    </tr>\n",
       "    <tr>\n",
       "      <th>JioMart</th>\n",
       "      <td>35.026961</td>\n",
       "    </tr>\n",
       "    <tr>\n",
       "      <th>Blinkit</th>\n",
       "      <td>34.649371</td>\n",
       "    </tr>\n",
       "  </tbody>\n",
       "</table>\n",
       "</div>"
      ],
      "text/plain": [
       "                  Delivery Time (min)\n",
       "Agent Name                           \n",
       "Swiggy Instamart            35.119476\n",
       "Zepto                       35.061622\n",
       "JioMart                     35.026961\n",
       "Blinkit                     34.649371"
      ]
     },
     "execution_count": 12,
     "metadata": {},
     "output_type": "execute_result"
    }
   ],
   "source": [
    "data[['Agent Name', 'Delivery Time (min)']].groupby('Agent Name').mean().sort_values(by='Delivery Time (min)', ascending=False)"
   ]
  },
  {
   "cell_type": "code",
   "execution_count": 18,
   "metadata": {},
   "outputs": [
    {
     "name": "stderr",
     "output_type": "stream",
     "text": [
      "C:\\Users\\K Tarun\\AppData\\Local\\Temp\\ipykernel_18440\\3246910938.py:3: UserWarning: No artists with labels found to put in legend.  Note that artists whose label start with an underscore are ignored when legend() is called with no argument.\n",
      "  plt.legend(loc='upper right')\n"
     ]
    },
    {
     "data": {
      "text/plain": [
       "<Axes: title={'center': 'Agenet Name vs FeedBack Type'}, xlabel='Agent Name', ylabel='count'>"
      ]
     },
     "execution_count": 18,
     "metadata": {},
     "output_type": "execute_result"
    },
    {
     "data": {
      "image/png": "[encoded data removed]",
      "text/plain": [
       "<Figure size 1000x500 with 1 Axes>"
      ]
     },
     "metadata": {},
     "output_type": "display_data"
    }
   ],
   "source": [
    "plt.figure(figsize=(10,5))\n",
    "plt.title('Agenet Name vs FeedBack Type')\n",
    "plt.legend(loc='upper right')\n",
    "sns.countplot(data=data,x='Agent Name',hue='Customer Feedback Type')"
   ]
  },
  {
   "cell_type": "code",
   "execution_count": 19,
   "metadata": {},
   "outputs": [
    {
     "name": "stderr",
     "output_type": "stream",
     "text": [
      "C:\\Users\\K Tarun\\AppData\\Local\\Temp\\ipykernel_18440\\769068217.py:3: UserWarning: No artists with labels found to put in legend.  Note that artists whose label start with an underscore are ignored when legend() is called with no argument.\n",
      "  plt.legend(loc='upper right')\n"
     ]
    },
    {
     "data": {
      "text/plain": [
       "<Axes: title={'center': 'Agenet Name vs order Accuracy'}, xlabel='Agent Name', ylabel='count'>"
      ]
     },
     "execution_count": 19,
     "metadata": {},
     "output_type": "execute_result"
    },
    {
     "data": {
      "image/png": "[encoded data removed]",
      "text/plain": [
       "<Figure size 1000x500 with 1 Axes>"
      ]
     },
     "metadata": {},
     "output_type": "display_data"
    }
   ],
   "source": [
    "plt.figure(figsize=(10,5))\n",
    "plt.title('Agenet Name vs order Accuracy')\n",
    "plt.legend(loc='upper right')\n",
    "sns.countplot(data=data,x='Agent Name',hue='Order Accuracy')"
   ]
  },
  {
   "cell_type": "code",
   "execution_count": 22,
   "metadata": {},
   "outputs": [
    {
     "name": "stderr",
     "output_type": "stream",
     "text": [
      "C:\\Users\\K Tarun\\AppData\\Local\\Temp\\ipykernel_18440\\3924830662.py:3: UserWarning: No artists with labels found to put in legend.  Note that artists whose label start with an underscore are ignored when legend() is called with no argument.\n",
      "  plt.legend(loc='upper right')\n"
     ]
    },
    {
     "data": {
      "text/plain": [
       "<Axes: title={'center': 'Agenet Name vs Price Accuracy'}, xlabel='Agent Name', ylabel='count'>"
      ]
     },
     "execution_count": 22,
     "metadata": {},
     "output_type": "execute_result"
    },
    {
     "data": {
      "image/png": "[encoded data removed]",
      "text/plain": [
       "<Figure size 1000x500 with 1 Axes>"
      ]
     },
     "metadata": {},
     "output_type": "display_data"
    }
   ],
   "source": [
    "plt.figure(figsize=(10,5))\n",
    "plt.title('Agenet Name vs Price Accuracy')\n",
    "plt.legend(loc='upper right')\n",
    "sns.countplot(data=data,x='Agent Name',hue='Price Range')"
   ]
  },
  {
   "cell_type": "code",
   "execution_count": 24,
   "metadata": {},
   "outputs": [],
   "source": [
    "category_counts = data['Order Type'].value_counts()"
   ]
  },
  {
   "cell_type": "code",
   "execution_count": 26,
   "metadata": {},
   "outputs": [
    {
     "data": {
      "image/png": "[encoded data removed]",
      "text/plain": [
       "<Figure size 600x600 with 1 Axes>"
      ]
     },
     "metadata": {},
     "output_type": "display_data"
    }
   ],
   "source": [
    "# Plot pie chart\n",
    "plt.figure(figsize=(6, 6))\n",
    "plt.pie(category_counts, labels=category_counts.index, autopct='%1.1f%%', startangle=140)\n",
    "plt.title('Category Distribution')\n",
    "plt.show()"
   ]
  },
  {
   "cell_type": "code",
   "execution_count": 29,
   "metadata": {},
   "outputs": [
    {
     "data": {
      "application/vnd.microsoft.datawrangler.viewer.v0+json": {
       "columns": [
        {
         "name": "Order Type",
         "rawType": "object",
         "type": "string"
        },
        {
         "name": "Rating",
         "rawType": "float64",
         "type": "float"
        },
        {
         "name": "Customer Service Rating",
         "rawType": "float64",
         "type": "float"
        }
       ],
       "conversionMethod": "pd.DataFrame",
       "ref": "810655c4-4ce6-4cb9-82ee-fb41dcc1cd2e",
       "rows": [
        [
         "Electronics",
         "3.0081349206349204",
         "2.9801587301587302"
        ],
        [
         "Essentials",
         "3.0446553446553444",
         "2.961038961038961"
        ],
        [
         "Food",
         "3.010568295114656",
         "2.9361914257228316"
        ],
        [
         "Grocery",
         "2.954673366834171",
         "2.9969849246231157"
        ],
        [
         "Pharmacy",
         "2.99607250755287",
         "2.985901309164149"
        ]
       ],
       "shape": {
        "columns": 2,
        "rows": 5
       }
      },
      "text/html": [
       "<div>\n",
       "<style scoped>\n",
       "    .dataframe tbody tr th:only-of-type {\n",
       "        vertical-align: middle;\n",
       "    }\n",
       "\n",
       "    .dataframe tbody tr th {\n",
       "        vertical-align: top;\n",
       "    }\n",
       "\n",
       "    .dataframe thead th {\n",
       "        text-align: right;\n",
       "    }\n",
       "</style>\n",
       "<table border=\"1\" class=\"dataframe\">\n",
       "  <thead>\n",
       "    <tr style=\"text-align: right;\">\n",
       "      <th></th>\n",
       "      <th>Rating</th>\n",
       "      <th>Customer Service Rating</th>\n",
       "    </tr>\n",
       "    <tr>\n",
       "      <th>Order Type</th>\n",
       "      <th></th>\n",
       "      <th></th>\n",
       "    </tr>\n",
       "  </thead>\n",
       "  <tbody>\n",
       "    <tr>\n",
       "      <th>Electronics</th>\n",
       "      <td>3.008135</td>\n",
       "      <td>2.980159</td>\n",
       "    </tr>\n",
       "    <tr>\n",
       "      <th>Essentials</th>\n",
       "      <td>3.044655</td>\n",
       "      <td>2.961039</td>\n",
       "    </tr>\n",
       "    <tr>\n",
       "      <th>Food</th>\n",
       "      <td>3.010568</td>\n",
       "      <td>2.936191</td>\n",
       "    </tr>\n",
       "    <tr>\n",
       "      <th>Grocery</th>\n",
       "      <td>2.954673</td>\n",
       "      <td>2.996985</td>\n",
       "    </tr>\n",
       "    <tr>\n",
       "      <th>Pharmacy</th>\n",
       "      <td>2.996073</td>\n",
       "      <td>2.985901</td>\n",
       "    </tr>\n",
       "  </tbody>\n",
       "</table>\n",
       "</div>"
      ],
      "text/plain": [
       "               Rating  Customer Service Rating\n",
       "Order Type                                    \n",
       "Electronics  3.008135                 2.980159\n",
       "Essentials   3.044655                 2.961039\n",
       "Food         3.010568                 2.936191\n",
       "Grocery      2.954673                 2.996985\n",
       "Pharmacy     2.996073                 2.985901"
      ]
     },
     "execution_count": 29,
     "metadata": {},
     "output_type": "execute_result"
    }
   ],
   "source": [
    "data[['Order Type', 'Rating', 'Customer Service Rating']].groupby('Order Type').mean()"
   ]
  },
  {
   "cell_type": "code",
   "execution_count": null,
   "metadata": {},
   "outputs": [],
   "source": []
  }
 ],
 "metadata": {
  "kernelspec": {
   "display_name": "myenv",
   "language": "python",
   "name": "python3"
  },
  "language_info": {
   "codemirror_mode": {
    "name": "ipython",
    "version": 3
   },
   "file_extension": ".py",
   "mimetype": "text/x-python",
   "name": "python",
   "nbconvert_exporter": "python",
   "pygments_lexer": "ipython3",
   "version": "3.12.8"
  }
 },
 "nbformat": 4,
 "nbformat_minor": 2
}
