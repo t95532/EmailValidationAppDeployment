{
 "cells": [
  {
   "cell_type": "code",
   "execution_count": null,
   "metadata": {},
   "outputs": [
    {
     "data": {
      "text/plain": [
       "3"
      ]
     },
     "execution_count": 43,
     "metadata": {},
     "output_type": "execute_result"
    }
   ],
   "source": [
    "# import pandas as pd\n",
    "# from sqlalchemy import create_engine\n",
    "\n",
    "# # Define your server and database names\n",
    "# server_name = 'LAPTOP-82AUC5I5\\\\SQLEXPRESS'\n",
    "# database_name = 'CompanyDB'\n",
    "\n",
    "# # Corrected connection string\n",
    "# connection_string = (\n",
    "#     f\"mssql+pyodbc://@{server_name}/{database_name}?driver=ODBC+Driver+17+for+SQL+Server&trusted_connection=yes\"\n",
    "# )\n",
    "\n",
    "# # Create the SQLAlchemy engine\n",
    "# engine = create_engine(connection_string)\n",
    "\n",
    "# # Define your DataFrame\n",
    "# df = pd.DataFrame({\n",
    "#     'column1': [1, 2, 3],\n",
    "#     'column2': ['a', 'b', 'c']\n",
    "# })\n",
    "\n",
    "# # Write the DataFrame to a SQL table\n",
    "# df.to_sql('ex', engine, if_exists='replace', index=False)"
   ]
  },
  {
   "cell_type": "code",
   "execution_count": null,
   "metadata": {},
   "outputs": [],
   "source": [
    "# import pandas as pd\n",
    "# from sqlalchemy import create_engine\n",
    "\n",
    "# # Define your server and database names\n",
    "# server_name = 'LAPTOP-82AUC5I5\\\\SQLEXPRESS'\n",
    "# database_name = 'vscode'\n",
    "\n",
    "# # Corrected connection string\n",
    "# connection_string = (\n",
    "#     f\"mssql+pyodbc://@{server_name}/{database_name}?driver=ODBC+Driver+17+for+SQL+Server&trusted_connection=yes\"\n",
    "# )\n",
    "\n",
    "# # Create the SQLAlchemy engine\n",
    "# engine = create_engine(connection_string)\n",
    "\n",
    "# # Define your DataFrame\n"
   ]
  },
  {
   "cell_type": "code",
   "execution_count": 1,
   "metadata": {},
   "outputs": [],
   "source": [
    "# Write the DataFrame to a SQL table\n",
    "#df.to_sql('train_data', engine, if_exists='replace', index=False)"
   ]
  },
  {
   "cell_type": "code",
   "execution_count": 1,
   "metadata": {},
   "outputs": [],
   "source": [
    "import pandas as pd\n",
    "import numpy as np\n",
    "import matplotlib.pyplot as plt\n",
    "import seaborn as sns"
   ]
  },
  {
   "cell_type": "code",
   "execution_count": 2,
   "metadata": {},
   "outputs": [],
   "source": [
    "data = pd.read_csv(r\"D:\\PythonEnvironment\\Political_Bias.csv\")"
   ]
  },
  {
   "cell_type": "code",
   "execution_count": 3,
   "metadata": {},
   "outputs": [
    {
     "data": {
      "text/plain": [
       "(3458, 5)"
      ]
     },
     "execution_count": 3,
     "metadata": {},
     "output_type": "execute_result"
    }
   ],
   "source": [
    "data.shape"
   ]
  },
  {
   "cell_type": "code",
   "execution_count": 4,
   "metadata": {},
   "outputs": [
    {
     "data": {
      "application/vnd.microsoft.datawrangler.viewer.v0+json": {
       "columns": [
        {
         "name": "index",
         "rawType": "int64",
         "type": "integer"
        },
        {
         "name": "Title",
         "rawType": "object",
         "type": "string"
        },
        {
         "name": "Link",
         "rawType": "object",
         "type": "string"
        },
        {
         "name": "Text",
         "rawType": "object",
         "type": "string"
        },
        {
         "name": "Source",
         "rawType": "object",
         "type": "string"
        },
        {
         "name": "Bias",
         "rawType": "object",
         "type": "string"
        }
       ],
       "conversionMethod": "pd.DataFrame",
       "ref": "9658dcb9-c51e-4fda-93df-3ec5243d1241",
       "rows": [
        [
         "0",
         "John Boltonâ€™s Advice for the â€˜Continuing Turmoilâ€™ of a Trump Administration",
         "https://thedispatch.com/article/john-boltons-advice-for-the-continuing-turmoil-of-a-trump-administration/",
         "With just days until his inauguration, it would not be a shock to learn that Donald Trump is walking around Mar-a-Lago singing Starshipâ€™s No. 1 hit song from 1987 (the same year he published The Art of the Deal): â€œNothingâ€™s Gonna Stop Us Now.â€ Confirmation hearings for Cabinet-level posts are moving right along, with Republican senators getting in line. The transition from the Biden administration to Trumpâ€™s has been relatively smooth. Politically, Trump has never been more popular. Itâ€™s a period of such good feelings that even (some) Democrats are playing nice with Trump. â€œEverybodyâ€™s optimistic. Everything seems possible. No limits appear,â€ says executive branch veteran John Bolton. â€œIt lasts right up until noon on the 20th, when reality strikes.â€ Up to now, the focus of most commentary and reporting has been how the second Trump administration will reshape the country and the world: the national economy, the countryâ€™s global standing, both the operation of government and everyday life in the nationâ€™s capital, the trajectory of American politics, Congress, big business, and even popular culture.  But as it has in past administrations, the world itself has the ability to stop a presidency dead in its tracks. So how should an incoming Trump official think about the incredible, and most likely incredibly frustrating, challenges to come? On Monday the work of the second Trump administration will begin in earnest, starting with the more than 100 executive orders promised by his transition. There will still be plenty of confirmations to go through, not just for Cabinet secretaries and prominent agency heads, but many of the lower-level but still Senate-confirmed positions Trump will need to fill. The process for accomplishing his legislative agenda remains a mystery to his allies in Congress. Nor do the Republican Partyâ€™s margins in both houses of Congress leave much room for error. And the looming midterm elections of 2026 will start the clock on how much real time this already-lame duck president has to get it all done before a potential shift in power in Washington. On top of all that are what Donald Rumsfeld called the known and unknown unknowns that can throw a presidency off its plan: natural disasters, terrorist attacks, international incidents, economic calamities. Trump had direct experience with this in the form of the COVID outbreak in 2020. A development in Ukraine or a provocation from China could complicate whatever domestic plans the Trump administration has. So, too, could injunctions and lawsuits in response to his executive actions.  So while Trump is now an old hand at being president, the real work of governing falls to the thousands of appointees, advisers, and staff of the executive branch. That, says Bolton, is where the real actionâ€”and real obstaclesâ€”will appear. â€œWhen it comes to the running of departments and agencies, day by day, a lot depends on the deputy secretary, the undersecretaries, the assistant secretaries, and those we still donâ€™t know a bunch about. So in that sense, the transition continues, except it continues under the gun, [when] youâ€™re making policy, making decisions that every day that have real world consequences,â€ Bolton says. And he would know. The 76-year-old attorney has served in every Republican administration since Ronald Reaganâ€™s, including multiple positions in both the Justice and State departments. From perches that run the gamut from mid-level agency administrator to Trumpâ€™s national security adviser from 2018 to 2019, Bolton has seen administrations struggle with the responsibilities of governance from multiple vantage points. Itâ€™s hard to live up to the promises of a campaign, no matter how unified your party is or how poorly your predecessor performed. And beyond the base level of difficulty in running a massive government bureaucracy, implementing policy, and spending political capital effectively, carrying out the business of a Trump administration is uniquely demanding. It requires officials and staff to be prepared for the whiplash of contradictory directives or sudden decisionmaking from a capricious chief executive, who, as Bolton recently wrote for the New York Times, expects loyalty to himself above all. Boltonâ€™s advice to those coming in to work for the administration? Be prepared for all of that. â€œPeople who have been in the government before have seen how presidents have operated who are disciplined,â€ Bolton says. â€œGeorge H.W. Bush being perhaps the most disciplined, but Reagan had a certain discipline. George W. Bush had a certain discipline. Trump doesnâ€™t have a discipline, and that is hard just in the regular course of trying to decide policy.â€ Like many who worked for Trump during his first presidential tenure, Bolton has been vocal about how tumultuous the work can be. But for those who will be navigating what he calls the â€œcontinuing turmoilâ€ of advising Trump, Bolton has some straightforward recommendations. â€œIf youâ€™re a senior official, White House staff, Cabinet officer, whatever it might be, your job is to present to the president the information that he should have to make a decision. Present the options, get a decision, and then carry it out,â€ he says. â€œAnd you canâ€™t be held responsible if he doesnâ€™t care about the information youâ€™re providing or doesnâ€™t want to look at options, thatâ€™s still what you should do, because thatâ€™s what serves the country.â€ Sometimes the best policy could be keeping your head down, particularly if your corner of the government doesnâ€™t often grab Trumpâ€™s eye. â€œIn many departments and agencies, you know, if, once they get over there and begin to do the things they think that almost any Republican administration would do if Trump doesnâ€™t pay any attention to them, that could well be a blessing, because they could get a lot more done that way,â€ Bolton says. And knowing when to call it quits, too, is just as important. â€œWhen the time comes that your principles are being violated or you just donâ€™t think heâ€™s paying any attention to you, thatâ€™s the time to get out,â€ Bolton says. â€œAnd you shouldnâ€™t regret that, because you know this job is temporary going in, and as long as you know it could end tomorrow, you sleep a lot better at night and you perform better on the job.â€",
         "TheDispatch",
         "lean right"
        ],
        [
         "1",
         "Why Shrubland Makes Southern Californiaâ€™s Wildfires Inevitable",
         "https://thedispatch.com/newsletter/techne/why-shrubland-makes-southern-californias-wildfires-inevitable/",
         "Welcome back to Techne! In Star Trek, writers got around the problem of language translation by inventing the universal translator. Researchers at tech giant Meta seem to be inching toward this tech. A recent paper in Nature describes how they created a machine-learning system that almost instantaneously translates speech in 101 languages into words spoken by a voice synthesizer in any of 36 target languages. Los Angeles continues to burn.  As of this writing, the Palisades Fire is spread over 23,713 acres and is 22 percent contained. This means that 22 percent of the fireâ€™s perimeter has been controlled by firefighters through containment lines. The Eaton Fire currently stands at 14,117 acres burned at 55 percent containment. Will Rogers State Park is gone. The homes of celebrities Paris Hilton, Mandy Moore, Billy Crystal, and many others are gone. More than 12,000 homes, businesses, and schools have burned, and 25 people have died. AccuWeather has estimated the cost to rebuild at between $250 billion and $275 billion, and it is sure to rise. Online commenters were quick to blame the byzantine regulatory systems in California for the magnitude of the disaster. While this is often a good heuristic, since Californiaâ€™s bad policies affect so many aspects of life there, the conflagration seems to have been a natural disaster, not a pure policy disaster.  What many may not know about the fires that occur near Los Angeles is that itâ€™s located in the middle of a chaparral shrubland, a type of ecosystem that grows up around rocky Mediterranean-type regions. Unlike the forests or the prairie, fires in the chaparral are infrequent and intensely hot. While the Native Americans in California deliberately set fires to shrubland, they were not trying to maintain the chaparral but to transform it into grasslands for hunting. Southern California could transform itself into grassland, which would have some advantages in fire management, but it would come with the destruction of the chaparral.   While understanding the ecosystem is crucial for long-term planning, the immediate focus is on recovery and rebuilding. Gov. Gavin Newsomâ€™s first major action was to suspend the California Environmental Quality Act (CEQA) and the California Coastal Actâ€™s permitting system. As he explained on X, these suspensions â€œwill allow victims of the SoCal fires to not get caught up in bureaucratic red tape and quickly rebuild their homes.â€  I am glad these suspensions are becoming the norm during natural disasters. Not only do they  fast-track rebuilding, but they also hint at the uncomfortable truth of government: Our normal rules actively prevent us from solving urgent problems. But if these rules can be safely suspended during our most challenging momentsâ€”when careful oversight should matter mostâ€”then itâ€™s time to reevaluate their necessity during calmer times as well. Los Angeles is dominated by chaparral, a type of scrub that occurs in Mediterranean climates where there is dense, rocky soil. And chaparral is dominated by pyrophytes, the name botanists give to plants that need fireâ€”and smoke, as it has been recently foundâ€”to germinate seeds.  Massive, swift, but infrequent conflagrations are common wherever chaparral occurs, which includes parts of California, Oregon, Baja California, Chile, South Africa, and Australia. Chaparral grows in a way that creates an unbroken layer of fuel from the ground all the way up through the vegetation, making intense fires unavoidable. These are called crown fires because they burn through the tops of the plants. This differs from most forest fires, which primarily burn near the ground because of the separation between the forest floor and the tree canopy.  The western part of Los Angeles is uniquely vulnerable to disaster. As the urban theorist Mike Davis wrote in â€œThe Case for Letting Malibu Burn,â€ this is due to â€œthe uncanny alignment of its coastal canyons with the annual â€˜fire windsâ€™ from the north: the notorious Santa Anas.â€ The shape of the â€œSan Fernando Valley acts as a giant bellows, sometimes fanning the Santa Anas to hurricane velocity as they roar seaward through the narrow canyons and rugged defiles of the Santa Monica Mountains. Add a spark to the dense, dry vegetation on such an occasion and the hillsides will explode in uncontrollable wildfire.â€ Infrequent, uncontrollable wildfire is now understood as a key part of the life cycle of chaparral. As Richard W. Halsey of the California Chaparral Institute, and Alexandra D. Syphard of the  Conservation Biology Institute explained in â€œHigh-Severity Fire in Chaparral: Cognitive Dissonance in the Shrublands,â€ Although counterintuitive, chaparral plant communities are much more resilient to infrequent, high-intensity fires than they are to more frequent, lower-intensity fires (Keeley et al., 2008). If chaparral does not have sufficient time to replenish the soil seed bank, accumulate the biomass necessary to produce fires hot enough to successfully germinate fire-cued seeds, or allow resprouting species time to restore starch supplies in underground lignotubers, a cascading series of events begins that can significantly change or eliminate the plant community. If the fire return interval is less than 10â€”20 years, biodiversity is reduced and nonnative weeds and grasses typically invade, ultimately type-converting native shrubland to nonnative grassland (Brooks et al., 2004). So while it is true that Native Americans in Southern California were actively setting fires long before Europeans arrived, itâ€™s likely that they were doing it to eliminate shrubland and help grasses grow so that grassland animals could be hunted on that land. That is to say, Native Californians werenâ€™t maintaining a healthy chaparral. Fuel build-up is invariably blamed for the occurrence of large chaparral wildfires. One commenter on the Marginal Revolution blog, for example, relayed what he was seeing on local news broadcasts a week ago,  A man who had lost his house made the point that it was his neighbor just below him that created the conditions for both houses and others to burn: the neighbor allowed brush around the neighborâ€™s house to grow thick and high, creating a fire bomb once the embers hit the brush. The brush didnâ€™t need a controlled burn, it needed a weed whacker or other device to keep it cut. But researchers are now balking at that idea. Contrary to popular belief, fire suppression like preventing or fighting fires hasnâ€™t disrupted the natural fire patterns in these areas. In fact, fire suppression has actually been helpful because itâ€™s protected the chaparral from burning too frequently, which would be harmful to the ecosystem, which prefers a cycle of 30 years or more. Without fire suppression efforts, human-caused fires would have resulted in the vegetation burning far more often than it did historically. Because fire suppression has helped maintain a more natural fire pattern in the long term, the chaparral was set up to go up in a blaze when the conditions were right. Abnormally strong rains in 2023 drove plant growth, which then became a tinderbox this year with a lack of rain. Unusually strong winds gave it the air to quickly expand. Mondayâ€™s The Morning Dispatch did an excellent job of explaining how all of this came together. While conventional wisdom suggests we need more frequent, controlled burns to prevent disasters, the science of chaparral tells a different story. These ecosystems donâ€™t just tolerate massive conflagrations, they require them for their very survival. The devastation we witnessed wasnâ€™t an aberration or a result of poor fire management. It was the chaparral operating exactly as nature intended, on a timeline measured not in years, but in decades. Understanding this reality is essential for anyone choosing to live in these beautiful but periodically explosive landscapes. All of this makes controlled burns ill-suited for Southern Californiaâ€™s chaparral. But that isnâ€™t to say that controlled burns arenâ€™t needed elsewhere in other ecosystems in California. And controlled burns are stymied by delays. Like any other government action, controlled burns are subjected to the National Environmental Policy Act (NEPA) and CEQA, Californiaâ€™s version of the law.  Environmental groups arenâ€™t fans of controlled burns or thinning efforts and have taken both the state and federal governments to court over them. Activists delayed a 9,000-acre forest thinning project in California for 10 years, citing potential threats to spotted owl habitat. However, the unthinned forest ultimately burned in a wildfire, destroying the very owl habitat they had sought to protect. The Sacramento Bee reported that one womanâ€™s lawsuit over another California forest-thinning project forced the government to process 19,193 pages of paperwork. And to top it off, in 2007, the Sierra Club successfully sued the Forest Service to prevent it from exempting small, controlled burns. In California, it takes months to get approval for a controlled burn, while in Florida it takes mere minutes.  Still, as Kevin Drum wrote in â€œWhy donâ€™t we do more prescribed burning? An explainer.â€ regulations are part of the problem, but they arenâ€™t the only thing stopping controlled burns: The biggest impediments are public opposition, rising insurance costs, resource constraints, and the risk-averse views of forest managers, many of whom are still wary of prescribed burns. This is partly for technical reasons and partly out of fear. Only one out of a thousand prescribed burns gets out of control, but thatâ€™s enough. If officials conduct a prescribed burn that gets out of control, they face serious consequences and liability. However, when devastating wildfires destroy communities and landscapes due to long-term neglect of forest management, no one is held accountable for these preventable disasters. The cumulative result is that fewer acres are burned than what experts would want. Insurers will face pressure as people inevitably rebuild, and something will break. Californiaâ€™s insurance system requires a public hearing and an affirmative approval by elected insurance commissioners to increase rates. But Proposition 103, which passed in 1988 to reform Californiaâ€™s insurance regulations, is unique in that it allows nonprofit organizations to collect fees when they challenge proposed insurance rate hikes. Californiaâ€™s system is generally viewed as unmatched in terms of the extent to which consumers and advocacy groups can formally intervene in insurance rate filings. As a result, insurance companies have stopped issuing new policies that cover fire. This, in turn, has put pressure on the stateâ€™s insurer of last resort, FAIR. But even FAIR is buckling under all the payouts. For years, the Pacific Palisades has been cited as one of the largest areas of exposure for FAIR at nearly $6 billion. As it last reported, however, FAIR had about $700 million in cash and even though it caps payments at $3 million, it likely will need a bailout. Still, I think it is telling that Newsomâ€™s immediate policy response was an executive order that suspended CEQA review and California Coastal Act permitting for properties being reconstructed. His executive order didnâ€™t just streamline reconstruction. It laid bare a paradox at the heart of the stateâ€™s regulatory framework. By suspending both CEQA review and Coastal Act permitting for rebuilding, while directing agencies to identify other regulations that could be safely relaxed, Newsom tacitly acknowledged what many have long suspected. If these rules can be safely suspended during our most challenging moments when careful oversight should matter most, perhaps itâ€™s time to reevaluate their necessity during calmer times as well. My former colleague Tahra Jirari made a similar point recently, writing that, â€œRather than temporarily waiving them just for rebuilding, we should seize this moment to create a permanently more functional system.â€ As a Los Angeleno, sheâ€™s been in the middle of this disaster, and as an economist, sheâ€™s been thinking about how to rebuild better. As she told me, even with the suspension of CEQA and California Coastal Commission rules, â€œcurrent policies are quite restrictive and will make it difficult to rebuild. All of this has made us more vulnerable than we should be because we need to build densely away from fire-prone zones.â€  Many L.A. residents love being near nature and the chaparral, but they donâ€™t understand the risk. Every so often, the region will burn in a hot blaze. This isnâ€™t a failure of policy or prevention. Itâ€™s the fundamental nature of this ecosystem. Living in the chaparral means accepting its cycles: long periods of beautiful, rugged wilderness punctuated by devastating fires that canâ€™t be tamed. The question isnâ€™t how to prevent these fires entirely, but how to build and live with the knowledge that they will inevitably return. Until next week, ðŸš€ Will",
         "TheDispatch",
         "lean right"
        ],
        [
         "2",
         "Los Angelesâ€™ Destruction Was Fueled by Bad Policyâ€”and Bad Incentives",
         "https://thedispatch.com/newsletter/capitolism/los-angeles-destruction-was-fueled-by-bad-policy-and-bad-incentives/",
         "As fire still rages in the Los Angeles area, Iâ€™ve been torn about whether to write about it. Beyond the very real tragedies and my general rule against public dunking, a lot of whatâ€™s going on out there has nothing to do with policy. As our friends at The Morning Dispatch explained, for example, national experts and folks on the ground seem to agree that the unfortunate and freakish confluence of several meteorological phenomenaâ€”especially the hurricane-force winds and recent lack of rainâ€”made much of the damage in and around L.A. unavoidable regardless of the policies in place or the people in charge. And much of the knee-jerk, partisan hysteria surrounding the fires has proven to be premature, half-baked, or just plain wrongâ€”not to mention distasteful. On the other hand, there do appear to be several policies that, while they didnâ€™t cause the fires, probably made things in L.A. today worse than theyâ€™d otherwise beâ€”perhaps by a significant margin. They fit squarely within the stuff we talk about all the time here at Capitolism and provide lessons about not only the L.A. fires but also how (ostensibly) good policy intentions can generate really bad outcomes, thanks in large part to some equally bad incentives for all the people involved. The place to start is Californiaâ€™s onerous regulation of homeowners insurance, which has probably encouraged many Angelenos to live in more fire-prone areas and has kept many of them underinsured or without insurance entirely. As economist Brian Albrecht detailed last week, citing a deep dive paper from his colleagues at the International Center for Law and Economics (ICLE), Californiaâ€™s Proposition 103 forces private insurers to price their products not just below hypothetical market rates but well below their costâ€”creating â€œthe biggest gap between rates and risk in the nation.â€ Albrecht adds that the system is also highly inflexible and insanely slow: Californiaâ€™s speed of rate approvals ranked second-to-last among the 50 states (and D.C.) over the last five years, with an average of 236 days for homeowners insurance. And itâ€™s been getting worse:",
         "TheDispatch",
         "lean right"
        ],
        [
         "3",
         "Acquiring Greenland Is a Good Idea. Threatening Force to Do So Is Not.",
         "https://thedispatch.com/article/acquiring-greenland-is-a-good-idea-threatening-force-to-do-so-is-not/",
         "Whether it was Will Rogers or Tony Soprano, the old suggestion to â€œbuy land, Godâ€™s not making any more of itâ€ is good real estate advice, but itâ€™s hardly an iron law. First of all, God does make more land from time to time. And so do humans. This raises a second famous piece of advice, also of unclear authorship. When it comes to real estate only three things matter: location, location, and location. And that brings us to Greenland. Donald Trump wants to acquire it. Nay, he says we need to acquire it. The last time he was president, he floated the idea and was roundly mocked for it. But not by me, and I am hardly averse to mocking Trump when the moment calls for it. For myriad reasons, it would be in our interest for the United States to annex, lease, absorb, or otherwise acquire the giant island. The most important of these reasons is, of course, location. Thatâ€™s why Iâ€™ve long thought acquiring Greenlandâ€”peacefully!â€”was a good idea. (Indeed, last year, I despaired of the â€œGreenland effectâ€â€”the phenomenon whereby Trumpâ€™s embrace of a good idea makes it less popular.). But my opinion doesnâ€™t count for much. James Stavridis, the former supreme allied commander of NATO, and hardly a MAGA toady, agrees. He writes that the Mexico-sized island â€œis a vital element of the Greenland-Iceland-UK â€˜gapâ€™ that guards the northern approaches to the Atlantic Ocean from Russian naval forces.â€ Itâ€™s also believed Greenland has huge deposits of crucial rare-earth minerals, essential to all manner of high-tech industries, industries China is trying to control or dominate, in part by establishing a near monopoly on such resources. Long before anyone appreciated the importance of this stuff, the Truman administration recognized the value of Greenland and tried to persuade the Danes â€”who administer the quasi-independent nationâ€”to part with it. The Danes politely said no. But the issue was mostly resolved a few years later when Denmark became a founding member of the NATO alliance. They agreed to work with us on using it to bolster Western defenses. Trump claims thatâ€™s not good enough. In a recent press conference, Trump refused to rule out the use of force to take Greenland (and the Panama Canal). â€œFor purposes of National Security and Freedom throughout the World, the United States of America feels that the ownership and control of Greenland is an absolute necessity,â€ Trump insists. The best defenseâ€”really the only defenseâ€”of Trumpâ€™s rhetoric is that itâ€™s a negotiating tactic: Start with an outlandish ask, and then find a compromise that would have been impossible without it. Again, the problem with this classic example of turd-polishing Trumpâ€™s rhetoricâ€”â€œtake him seriously, not literallyâ€ as they sayâ€”is that Denmark and Greenland are already generously cooperating with the U.S. on national security issues. We literally have a vital military installation in Greenland already. So, what could that compromise be? Some special leasing deal for mining? Okay, maybe. But, surely, thereâ€™s a better way to pursue that with a longtime ally than threatening military force? Acquiring Greenland is a serious idea, but pursuing it in an unserious way is worse than not pursuing it at all. If Trump went full Putin and invaded Greenlandâ€”or even seriously threatened to by deploying ships to intimidate Denmarkâ€”it would likely spell the end of NATO. The supposed rationale for controlling Greenland is to deter Russia and protect the â€œfreedomâ€ of the world. But Putin would see the implosion of NATO as a small price for the transformation of Greenland into an arctic Puerto Rico. (By the way, Trump floated the idea of trading Puerto Rico for Greenland.)  Even more annoying: Trump and his sycophants have spent the better part of the last decade insisting that the GOP was kidnapped by â€œneoconâ€ warmongers and imperialists hell-bent on â€œprovokingâ€ â€œforeign warsâ€ for abstract goals like â€œfreedom.â€ Say what you will about the calumnies and blood libel against â€œneocons,â€ none of them floated the idea of provoking a foreign war with democratic allies. But when Trump threatens exactly that, well, thatâ€™s just so cool apparently. The people who insist that Trumpian nationalism is a Very Serious Idea invariably find themselves having to bend their Very Serious Arguments to the fact that Trump doesnâ€™t care about arguments and ideas. Heâ€™s just a real estate guy who likes putting his name on stuff.",
         "TheDispatch",
         "lean right"
        ],
        [
         "4",
         "Assessing Trumpâ€™s Expansionist Designs",
         "https://thedispatch.com/newsletter/morning/assessing-trumps-expansionist-designs/",
         "Happy Friday! If anyone was wondering, Belgiumâ€™s food agency has officially warned against eating your Christmas tree. But donâ€™t change your dinner plans just yetâ€”Sweden says itâ€™s fine.  Weâ€™ll let our brave readers tell us which country is right.  Less than two weeks until President-elect Donald Trumpâ€™s inauguration, journalists and commentators got their first fully fledged goose chase of the new administration during a press conference at Mar-a-Lago on Tuesday. ",
         "TheDispatch",
         "lean right"
        ]
       ],
       "shape": {
        "columns": 5,
        "rows": 5
       }
      },
      "text/html": [
       "<div>\n",
       "<style scoped>\n",
       "    .dataframe tbody tr th:only-of-type {\n",
       "        vertical-align: middle;\n",
       "    }\n",
       "\n",
       "    .dataframe tbody tr th {\n",
       "        vertical-align: top;\n",
       "    }\n",
       "\n",
       "    .dataframe thead th {\n",
       "        text-align: right;\n",
       "    }\n",
       "</style>\n",
       "<table border=\"1\" class=\"dataframe\">\n",
       "  <thead>\n",
       "    <tr style=\"text-align: right;\">\n",
       "      <th></th>\n",
       "      <th>Title</th>\n",
       "      <th>Link</th>\n",
       "      <th>Text</th>\n",
       "      <th>Source</th>\n",
       "      <th>Bias</th>\n",
       "    </tr>\n",
       "  </thead>\n",
       "  <tbody>\n",
       "    <tr>\n",
       "      <th>0</th>\n",
       "      <td>John Boltonâ€™s Advice for the â€˜Continuing T...</td>\n",
       "      <td>https://thedispatch.com/article/john-boltons-a...</td>\n",
       "      <td>With just days until his inauguration, it woul...</td>\n",
       "      <td>TheDispatch</td>\n",
       "      <td>lean right</td>\n",
       "    </tr>\n",
       "    <tr>\n",
       "      <th>1</th>\n",
       "      <td>Why Shrubland Makes Southern Californiaâ€™s Wi...</td>\n",
       "      <td>https://thedispatch.com/newsletter/techne/why-...</td>\n",
       "      <td>Welcome back to Techne! In Star Trek, writers ...</td>\n",
       "      <td>TheDispatch</td>\n",
       "      <td>lean right</td>\n",
       "    </tr>\n",
       "    <tr>\n",
       "      <th>2</th>\n",
       "      <td>Los Angelesâ€™ Destruction Was Fueled by Bad P...</td>\n",
       "      <td>https://thedispatch.com/newsletter/capitolism/...</td>\n",
       "      <td>As fire still rages in the Los Angeles area, I...</td>\n",
       "      <td>TheDispatch</td>\n",
       "      <td>lean right</td>\n",
       "    </tr>\n",
       "    <tr>\n",
       "      <th>3</th>\n",
       "      <td>Acquiring Greenland Is a Good Idea. Threatenin...</td>\n",
       "      <td>https://thedispatch.com/article/acquiring-gree...</td>\n",
       "      <td>Whether it was Will Rogers or Tony Soprano, th...</td>\n",
       "      <td>TheDispatch</td>\n",
       "      <td>lean right</td>\n",
       "    </tr>\n",
       "    <tr>\n",
       "      <th>4</th>\n",
       "      <td>Assessing Trumpâ€™s Expansionist Designs</td>\n",
       "      <td>https://thedispatch.com/newsletter/morning/ass...</td>\n",
       "      <td>Happy Friday! If anyone was wondering, Belgium...</td>\n",
       "      <td>TheDispatch</td>\n",
       "      <td>lean right</td>\n",
       "    </tr>\n",
       "  </tbody>\n",
       "</table>\n",
       "</div>"
      ],
      "text/plain": [
       "                                               Title  \\\n",
       "0  John Boltonâ€™s Advice for the â€˜Continuing T...   \n",
       "1  Why Shrubland Makes Southern Californiaâ€™s Wi...   \n",
       "2  Los Angelesâ€™ Destruction Was Fueled by Bad P...   \n",
       "3  Acquiring Greenland Is a Good Idea. Threatenin...   \n",
       "4           Assessing Trumpâ€™s Expansionist Designs   \n",
       "\n",
       "                                                Link  \\\n",
       "0  https://thedispatch.com/article/john-boltons-a...   \n",
       "1  https://thedispatch.com/newsletter/techne/why-...   \n",
       "2  https://thedispatch.com/newsletter/capitolism/...   \n",
       "3  https://thedispatch.com/article/acquiring-gree...   \n",
       "4  https://thedispatch.com/newsletter/morning/ass...   \n",
       "\n",
       "                                                Text       Source        Bias  \n",
       "0  With just days until his inauguration, it woul...  TheDispatch  lean right  \n",
       "1  Welcome back to Techne! In Star Trek, writers ...  TheDispatch  lean right  \n",
       "2  As fire still rages in the Los Angeles area, I...  TheDispatch  lean right  \n",
       "3  Whether it was Will Rogers or Tony Soprano, th...  TheDispatch  lean right  \n",
       "4  Happy Friday! If anyone was wondering, Belgium...  TheDispatch  lean right  "
      ]
     },
     "execution_count": 4,
     "metadata": {},
     "output_type": "execute_result"
    }
   ],
   "source": [
    "data.head()"
   ]
  },
  {
   "cell_type": "code",
   "execution_count": 5,
   "metadata": {},
   "outputs": [
    {
     "data": {
      "text/plain": [
       "Title      0\n",
       "Link       0\n",
       "Text      61\n",
       "Source     0\n",
       "Bias       0\n",
       "dtype: int64"
      ]
     },
     "execution_count": 5,
     "metadata": {},
     "output_type": "execute_result"
    }
   ],
   "source": [
    "data.isnull().sum() # Checking for missing values"
   ]
  },
  {
   "cell_type": "code",
   "execution_count": 6,
   "metadata": {},
   "outputs": [
    {
     "data": {
      "text/plain": [
       "Bias\n",
       "left          1865\n",
       "lean left      534\n",
       "right          529\n",
       "center         319\n",
       "lean right     211\n",
       "Name: count, dtype: int64"
      ]
     },
     "execution_count": 6,
     "metadata": {},
     "output_type": "execute_result"
    }
   ],
   "source": [
    "data['Bias'].value_counts()"
   ]
  },
  {
   "cell_type": "code",
   "execution_count": 7,
   "metadata": {},
   "outputs": [
    {
     "data": {
      "text/plain": [
       "Bias\n",
       "center       42\n",
       "lean left    15\n",
       "right         3\n",
       "left          1\n",
       "Name: count, dtype: int64"
      ]
     },
     "execution_count": 7,
     "metadata": {},
     "output_type": "execute_result"
    }
   ],
   "source": [
    "pd.set_option('display.max_rows', None) # Display full DataFrame information (Non-turncated Text column.)\n",
    "\n",
    "data[data['Text'].isnull()]['Bias'].value_counts() # Checking for missing values in the 'Text' column"
   ]
  },
  {
   "cell_type": "code",
   "execution_count": 8,
   "metadata": {},
   "outputs": [],
   "source": [
    "data.dropna(subset=['Text'], inplace=True) # Dropping missing values in the 'Text' column"
   ]
  },
  {
   "cell_type": "code",
   "execution_count": 9,
   "metadata": {},
   "outputs": [
    {
     "data": {
      "text/plain": [
       "Source\n",
       "Alternet                    1030\n",
       "Apnews                       493\n",
       "BreitBart                    264\n",
       "abcnews                      161\n",
       "npr                          160\n",
       "NewYorkPost                  142\n",
       "Huffpost                     131\n",
       "StraightArrowNews            130\n",
       "usatoday                     124\n",
       "reason                       110\n",
       "TheFederalist                110\n",
       "IndependentJournalReview      78\n",
       "TheDailyBeast                 77\n",
       "nbcnews                       74\n",
       "TheNation                     70\n",
       "MotherJones                   63\n",
       "TheFreePress                  52\n",
       "TheWashingtonFreeBeacon       39\n",
       "cnbc                          37\n",
       "BlazeMedia                    35\n",
       "TheDispatch                   17\n",
       "Name: count, dtype: int64"
      ]
     },
     "execution_count": 9,
     "metadata": {},
     "output_type": "execute_result"
    }
   ],
   "source": [
    "data.Source.value_counts()"
   ]
  },
  {
   "cell_type": "code",
   "execution_count": 10,
   "metadata": {},
   "outputs": [
    {
     "data": {
      "text/plain": [
       "(3397, 5)"
      ]
     },
     "execution_count": 10,
     "metadata": {},
     "output_type": "execute_result"
    }
   ],
   "source": [
    "data.shape"
   ]
  },
  {
   "cell_type": "code",
   "execution_count": 11,
   "metadata": {},
   "outputs": [],
   "source": [
    "import re\n",
    "import string\n",
    "from nltk.corpus import stopwords\n",
    "from nltk.tokenize import word_tokenize\n",
    "from nltk.stem import WordNetLemmatizer"
   ]
  },
  {
   "cell_type": "code",
   "execution_count": 53,
   "metadata": {},
   "outputs": [
    {
     "name": "stderr",
     "output_type": "stream",
     "text": [
      "[nltk_data] Downloading package words to C:\\Users\\K\n",
      "[nltk_data]     Tarun\\AppData\\Roaming\\nltk_data...\n",
      "[nltk_data]   Package words is already up-to-date!\n"
     ]
    }
   ],
   "source": [
    "import nltk\n",
    "from nltk.corpus import words\n",
    "\n",
    "# Ensure you have the words corpus downloaded\n",
    "nltk.download('words')\n",
    "\n",
    "# Access the words from the WordListCorpusReader object\n",
    "word_list = words.words()\n",
    "\n",
    "# Now you can iterate over the word_list\n",
    "# for word in word_list:\n",
    "#     print(word)"
   ]
  },
  {
   "cell_type": "code",
   "execution_count": 13,
   "metadata": {},
   "outputs": [
    {
     "name": "stderr",
     "output_type": "stream",
     "text": [
      "[nltk_data] Downloading package stopwords to C:\\Users\\K\n",
      "[nltk_data]     Tarun\\AppData\\Roaming\\nltk_data...\n",
      "[nltk_data]   Package stopwords is already up-to-date!\n"
     ]
    }
   ],
   "source": [
    "import nltk\n",
    "from nltk.corpus import stopwords\n",
    "\n",
    "# Ensure you have the stopwords corpus downloaded\n",
    "nltk.download('stopwords')\n",
    "\n",
    "# Access the stopwords list\n",
    "stop_words = set(stopwords.words('english'))"
   ]
  },
  {
   "cell_type": "code",
   "execution_count": 14,
   "metadata": {},
   "outputs": [],
   "source": [
    "def clean_text(text):\n",
    "    text = text.lower() # Convert text to lowercase\n",
    "    text = re.sub(r'https?://\\S+|www\\.\\S+', '', text) # Remove URLs\n",
    "    text = re.sub(r'<.*?>', '', text) # Remove HTML tags\n",
    "    text = re.sub(r'[^\\w\\s]', '', text) # Remove punctuation\n",
    "    text = re.sub(r'\\d+', '', text) # Remove digits\n",
    "    text = re.sub(r'\\n', ' ', text) # Remove newline character\n",
    "    text = re.sub(r'\\s+', ' ', text).strip() # Remove extra spaces\n",
    "    return text"
   ]
  },
  {
   "cell_type": "code",
   "execution_count": 15,
   "metadata": {},
   "outputs": [],
   "source": [
    "def tokenize_text(text):\n",
    "    tokens = word_tokenize(text) # Tokenize the text\n",
    "    tokens = [token for token in tokens if token not in stop_words] # Remove stopwords\n",
    "    return tokens"
   ]
  },
  {
   "cell_type": "code",
   "execution_count": 16,
   "metadata": {},
   "outputs": [],
   "source": [
    "def lemmatize_text(tokens):\n",
    "    lemmatizer = WordNetLemmatizer()\n",
    "    tokens = [lemmatizer.lemmatize(token) for token in tokens] # Lemmatize the text\n",
    "    return tokens"
   ]
  },
  {
   "cell_type": "code",
   "execution_count": 17,
   "metadata": {},
   "outputs": [],
   "source": [
    "def preprocess_text(text):\n",
    "    text = clean_text(text)\n",
    "    tokens = tokenize_text(text)\n",
    "    tokens = lemmatize_text(tokens)\n",
    "    text = ' '.join(tokens)\n",
    "    return text"
   ]
  },
  {
   "cell_type": "code",
   "execution_count": 18,
   "metadata": {},
   "outputs": [],
   "source": [
    "def preprocess_data(data):\n",
    "    data['Processed_Text'] = data['Text'].apply(preprocess_text)\n",
    "    return data"
   ]
  },
  {
   "cell_type": "code",
   "execution_count": 19,
   "metadata": {},
   "outputs": [],
   "source": [
    "df = preprocess_data(data)"
   ]
  },
  {
   "cell_type": "code",
   "execution_count": 20,
   "metadata": {},
   "outputs": [
    {
     "data": {
      "application/vnd.microsoft.datawrangler.viewer.v0+json": {
       "columns": [
        {
         "name": "index",
         "rawType": "int64",
         "type": "integer"
        },
        {
         "name": "Title",
         "rawType": "object",
         "type": "string"
        },
        {
         "name": "Link",
         "rawType": "object",
         "type": "string"
        },
        {
         "name": "Text",
         "rawType": "object",
         "type": "string"
        },
        {
         "name": "Source",
         "rawType": "object",
         "type": "string"
        },
        {
         "name": "Bias",
         "rawType": "object",
         "type": "string"
        },
        {
         "name": "Processed_Text",
         "rawType": "object",
         "type": "string"
        }
       ],
       "conversionMethod": "pd.DataFrame",
       "ref": "a5d467cf-bb64-49f5-b4dc-bb65ef35e626",
       "rows": [
        [
         "0",
         "John Boltonâ€™s Advice for the â€˜Continuing Turmoilâ€™ of a Trump Administration",
         "https://thedispatch.com/article/john-boltons-advice-for-the-continuing-turmoil-of-a-trump-administration/",
         "With just days until his inauguration, it would not be a shock to learn that Donald Trump is walking around Mar-a-Lago singing Starshipâ€™s No. 1 hit song from 1987 (the same year he published The Art of the Deal): â€œNothingâ€™s Gonna Stop Us Now.â€ Confirmation hearings for Cabinet-level posts are moving right along, with Republican senators getting in line. The transition from the Biden administration to Trumpâ€™s has been relatively smooth. Politically, Trump has never been more popular. Itâ€™s a period of such good feelings that even (some) Democrats are playing nice with Trump. â€œEverybodyâ€™s optimistic. Everything seems possible. No limits appear,â€ says executive branch veteran John Bolton. â€œIt lasts right up until noon on the 20th, when reality strikes.â€ Up to now, the focus of most commentary and reporting has been how the second Trump administration will reshape the country and the world: the national economy, the countryâ€™s global standing, both the operation of government and everyday life in the nationâ€™s capital, the trajectory of American politics, Congress, big business, and even popular culture.  But as it has in past administrations, the world itself has the ability to stop a presidency dead in its tracks. So how should an incoming Trump official think about the incredible, and most likely incredibly frustrating, challenges to come? On Monday the work of the second Trump administration will begin in earnest, starting with the more than 100 executive orders promised by his transition. There will still be plenty of confirmations to go through, not just for Cabinet secretaries and prominent agency heads, but many of the lower-level but still Senate-confirmed positions Trump will need to fill. The process for accomplishing his legislative agenda remains a mystery to his allies in Congress. Nor do the Republican Partyâ€™s margins in both houses of Congress leave much room for error. And the looming midterm elections of 2026 will start the clock on how much real time this already-lame duck president has to get it all done before a potential shift in power in Washington. On top of all that are what Donald Rumsfeld called the known and unknown unknowns that can throw a presidency off its plan: natural disasters, terrorist attacks, international incidents, economic calamities. Trump had direct experience with this in the form of the COVID outbreak in 2020. A development in Ukraine or a provocation from China could complicate whatever domestic plans the Trump administration has. So, too, could injunctions and lawsuits in response to his executive actions.  So while Trump is now an old hand at being president, the real work of governing falls to the thousands of appointees, advisers, and staff of the executive branch. That, says Bolton, is where the real actionâ€”and real obstaclesâ€”will appear. â€œWhen it comes to the running of departments and agencies, day by day, a lot depends on the deputy secretary, the undersecretaries, the assistant secretaries, and those we still donâ€™t know a bunch about. So in that sense, the transition continues, except it continues under the gun, [when] youâ€™re making policy, making decisions that every day that have real world consequences,â€ Bolton says. And he would know. The 76-year-old attorney has served in every Republican administration since Ronald Reaganâ€™s, including multiple positions in both the Justice and State departments. From perches that run the gamut from mid-level agency administrator to Trumpâ€™s national security adviser from 2018 to 2019, Bolton has seen administrations struggle with the responsibilities of governance from multiple vantage points. Itâ€™s hard to live up to the promises of a campaign, no matter how unified your party is or how poorly your predecessor performed. And beyond the base level of difficulty in running a massive government bureaucracy, implementing policy, and spending political capital effectively, carrying out the business of a Trump administration is uniquely demanding. It requires officials and staff to be prepared for the whiplash of contradictory directives or sudden decisionmaking from a capricious chief executive, who, as Bolton recently wrote for the New York Times, expects loyalty to himself above all. Boltonâ€™s advice to those coming in to work for the administration? Be prepared for all of that. â€œPeople who have been in the government before have seen how presidents have operated who are disciplined,â€ Bolton says. â€œGeorge H.W. Bush being perhaps the most disciplined, but Reagan had a certain discipline. George W. Bush had a certain discipline. Trump doesnâ€™t have a discipline, and that is hard just in the regular course of trying to decide policy.â€ Like many who worked for Trump during his first presidential tenure, Bolton has been vocal about how tumultuous the work can be. But for those who will be navigating what he calls the â€œcontinuing turmoilâ€ of advising Trump, Bolton has some straightforward recommendations. â€œIf youâ€™re a senior official, White House staff, Cabinet officer, whatever it might be, your job is to present to the president the information that he should have to make a decision. Present the options, get a decision, and then carry it out,â€ he says. â€œAnd you canâ€™t be held responsible if he doesnâ€™t care about the information youâ€™re providing or doesnâ€™t want to look at options, thatâ€™s still what you should do, because thatâ€™s what serves the country.â€ Sometimes the best policy could be keeping your head down, particularly if your corner of the government doesnâ€™t often grab Trumpâ€™s eye. â€œIn many departments and agencies, you know, if, once they get over there and begin to do the things they think that almost any Republican administration would do if Trump doesnâ€™t pay any attention to them, that could well be a blessing, because they could get a lot more done that way,â€ Bolton says. And knowing when to call it quits, too, is just as important. â€œWhen the time comes that your principles are being violated or you just donâ€™t think heâ€™s paying any attention to you, thatâ€™s the time to get out,â€ Bolton says. â€œAnd you shouldnâ€™t regret that, because you know this job is temporary going in, and as long as you know it could end tomorrow, you sleep a lot better at night and you perform better on the job.â€",
         "TheDispatch",
         "lean right",
         "day inauguration would shock learn donald trump walking around maralago singing starshipâs hit song year published art deal âœnothingâs gon na stop u nowâ confirmation hearing cabinetlevel post moving right along republican senator getting line transition biden administration trumpâs relatively smooth politically trump never popular itâs period good feeling even democrat playing nice trump âœeverybodyâs optimistic everything seems possible limit appearâ say executive branch veteran john bolton âœit last right noon th reality strikesâ focus commentary reporting second trump administration reshape country world national economy countryâs global standing operation government everyday life nationâs capital trajectory american politics congress big business even popular culture past administration world ability stop presidency dead track incoming trump official think incredible likely incredibly frustrating challenge come monday work second trump administration begin earnest starting executive order promised transition still plenty confirmation go cabinet secretary prominent agency head many lowerlevel still senateconfirmed position trump need fill process accomplishing legislative agenda remains mystery ally congress republican partyâs margin house congress leave much room error looming midterm election start clock much real time alreadylame duck president get done potential shift power washington top donald rumsfeld called known unknown unknown throw presidency plan natural disaster terrorist attack international incident economic calamity trump direct experience form covid outbreak development ukraine provocation china could complicate whatever domestic plan trump administration could injunction lawsuit response executive action trump old hand president real work governing fall thousand appointee adviser staff executive branch say bolton real actionâand real obstaclesâwill appear âœwhen come running department agency day day lot depends deputy secretary undersecretary assistant secretary still donât know bunch sense transition continues except continues gun youâre making policy making decision every day real world consequencesâ bolton say would know yearold attorney served every republican administration since ronald reaganâs including multiple position justice state department perch run gamut midlevel agency administrator trumpâs national security adviser bolton seen administration struggle responsibility governance multiple vantage point itâs hard live promise campaign matter unified party poorly predecessor performed beyond base level difficulty running massive government bureaucracy implementing policy spending political capital effectively carrying business trump administration uniquely demanding requires official staff prepared whiplash contradictory directive sudden decisionmaking capricious chief executive bolton recently wrote new york time expects loyalty boltonâs advice coming work administration prepared âœpeople government seen president operated disciplinedâ bolton say âœgeorge hw bush perhaps disciplined reagan certain discipline george w bush certain discipline trump doesnât discipline hard regular course trying decide policyâ like many worked trump first presidential tenure bolton vocal tumultuous work navigating call âœcontinuing turmoilâ advising trump bolton straightforward recommendation âœif youâre senior official white house staff cabinet officer whatever might job present president information make decision present option get decision carry outâ say âœand canât held responsible doesnât care information youâre providing doesnât want look option thatâs still thatâs serf countryâ sometimes best policy could keeping head particularly corner government doesnât often grab trumpâs eye âœin many department agency know get begin thing think almost republican administration would trump doesnât pay attention could well blessing could get lot done wayâ bolton say knowing call quits important âœwhen time come principle violated donât think heâs paying attention thatâs time get outâ bolton say âœand shouldnât regret know job temporary going long know could end tomorrow sleep lot better night perform better jobâ"
        ],
        [
         "1",
         "Why Shrubland Makes Southern Californiaâ€™s Wildfires Inevitable",
         "https://thedispatch.com/newsletter/techne/why-shrubland-makes-southern-californias-wildfires-inevitable/",
         "Welcome back to Techne! In Star Trek, writers got around the problem of language translation by inventing the universal translator. Researchers at tech giant Meta seem to be inching toward this tech. A recent paper in Nature describes how they created a machine-learning system that almost instantaneously translates speech in 101 languages into words spoken by a voice synthesizer in any of 36 target languages. Los Angeles continues to burn.  As of this writing, the Palisades Fire is spread over 23,713 acres and is 22 percent contained. This means that 22 percent of the fireâ€™s perimeter has been controlled by firefighters through containment lines. The Eaton Fire currently stands at 14,117 acres burned at 55 percent containment. Will Rogers State Park is gone. The homes of celebrities Paris Hilton, Mandy Moore, Billy Crystal, and many others are gone. More than 12,000 homes, businesses, and schools have burned, and 25 people have died. AccuWeather has estimated the cost to rebuild at between $250 billion and $275 billion, and it is sure to rise. Online commenters were quick to blame the byzantine regulatory systems in California for the magnitude of the disaster. While this is often a good heuristic, since Californiaâ€™s bad policies affect so many aspects of life there, the conflagration seems to have been a natural disaster, not a pure policy disaster.  What many may not know about the fires that occur near Los Angeles is that itâ€™s located in the middle of a chaparral shrubland, a type of ecosystem that grows up around rocky Mediterranean-type regions. Unlike the forests or the prairie, fires in the chaparral are infrequent and intensely hot. While the Native Americans in California deliberately set fires to shrubland, they were not trying to maintain the chaparral but to transform it into grasslands for hunting. Southern California could transform itself into grassland, which would have some advantages in fire management, but it would come with the destruction of the chaparral.   While understanding the ecosystem is crucial for long-term planning, the immediate focus is on recovery and rebuilding. Gov. Gavin Newsomâ€™s first major action was to suspend the California Environmental Quality Act (CEQA) and the California Coastal Actâ€™s permitting system. As he explained on X, these suspensions â€œwill allow victims of the SoCal fires to not get caught up in bureaucratic red tape and quickly rebuild their homes.â€  I am glad these suspensions are becoming the norm during natural disasters. Not only do they  fast-track rebuilding, but they also hint at the uncomfortable truth of government: Our normal rules actively prevent us from solving urgent problems. But if these rules can be safely suspended during our most challenging momentsâ€”when careful oversight should matter mostâ€”then itâ€™s time to reevaluate their necessity during calmer times as well. Los Angeles is dominated by chaparral, a type of scrub that occurs in Mediterranean climates where there is dense, rocky soil. And chaparral is dominated by pyrophytes, the name botanists give to plants that need fireâ€”and smoke, as it has been recently foundâ€”to germinate seeds.  Massive, swift, but infrequent conflagrations are common wherever chaparral occurs, which includes parts of California, Oregon, Baja California, Chile, South Africa, and Australia. Chaparral grows in a way that creates an unbroken layer of fuel from the ground all the way up through the vegetation, making intense fires unavoidable. These are called crown fires because they burn through the tops of the plants. This differs from most forest fires, which primarily burn near the ground because of the separation between the forest floor and the tree canopy.  The western part of Los Angeles is uniquely vulnerable to disaster. As the urban theorist Mike Davis wrote in â€œThe Case for Letting Malibu Burn,â€ this is due to â€œthe uncanny alignment of its coastal canyons with the annual â€˜fire windsâ€™ from the north: the notorious Santa Anas.â€ The shape of the â€œSan Fernando Valley acts as a giant bellows, sometimes fanning the Santa Anas to hurricane velocity as they roar seaward through the narrow canyons and rugged defiles of the Santa Monica Mountains. Add a spark to the dense, dry vegetation on such an occasion and the hillsides will explode in uncontrollable wildfire.â€ Infrequent, uncontrollable wildfire is now understood as a key part of the life cycle of chaparral. As Richard W. Halsey of the California Chaparral Institute, and Alexandra D. Syphard of the  Conservation Biology Institute explained in â€œHigh-Severity Fire in Chaparral: Cognitive Dissonance in the Shrublands,â€ Although counterintuitive, chaparral plant communities are much more resilient to infrequent, high-intensity fires than they are to more frequent, lower-intensity fires (Keeley et al., 2008). If chaparral does not have sufficient time to replenish the soil seed bank, accumulate the biomass necessary to produce fires hot enough to successfully germinate fire-cued seeds, or allow resprouting species time to restore starch supplies in underground lignotubers, a cascading series of events begins that can significantly change or eliminate the plant community. If the fire return interval is less than 10â€”20 years, biodiversity is reduced and nonnative weeds and grasses typically invade, ultimately type-converting native shrubland to nonnative grassland (Brooks et al., 2004). So while it is true that Native Americans in Southern California were actively setting fires long before Europeans arrived, itâ€™s likely that they were doing it to eliminate shrubland and help grasses grow so that grassland animals could be hunted on that land. That is to say, Native Californians werenâ€™t maintaining a healthy chaparral. Fuel build-up is invariably blamed for the occurrence of large chaparral wildfires. One commenter on the Marginal Revolution blog, for example, relayed what he was seeing on local news broadcasts a week ago,  A man who had lost his house made the point that it was his neighbor just below him that created the conditions for both houses and others to burn: the neighbor allowed brush around the neighborâ€™s house to grow thick and high, creating a fire bomb once the embers hit the brush. The brush didnâ€™t need a controlled burn, it needed a weed whacker or other device to keep it cut. But researchers are now balking at that idea. Contrary to popular belief, fire suppression like preventing or fighting fires hasnâ€™t disrupted the natural fire patterns in these areas. In fact, fire suppression has actually been helpful because itâ€™s protected the chaparral from burning too frequently, which would be harmful to the ecosystem, which prefers a cycle of 30 years or more. Without fire suppression efforts, human-caused fires would have resulted in the vegetation burning far more often than it did historically. Because fire suppression has helped maintain a more natural fire pattern in the long term, the chaparral was set up to go up in a blaze when the conditions were right. Abnormally strong rains in 2023 drove plant growth, which then became a tinderbox this year with a lack of rain. Unusually strong winds gave it the air to quickly expand. Mondayâ€™s The Morning Dispatch did an excellent job of explaining how all of this came together. While conventional wisdom suggests we need more frequent, controlled burns to prevent disasters, the science of chaparral tells a different story. These ecosystems donâ€™t just tolerate massive conflagrations, they require them for their very survival. The devastation we witnessed wasnâ€™t an aberration or a result of poor fire management. It was the chaparral operating exactly as nature intended, on a timeline measured not in years, but in decades. Understanding this reality is essential for anyone choosing to live in these beautiful but periodically explosive landscapes. All of this makes controlled burns ill-suited for Southern Californiaâ€™s chaparral. But that isnâ€™t to say that controlled burns arenâ€™t needed elsewhere in other ecosystems in California. And controlled burns are stymied by delays. Like any other government action, controlled burns are subjected to the National Environmental Policy Act (NEPA) and CEQA, Californiaâ€™s version of the law.  Environmental groups arenâ€™t fans of controlled burns or thinning efforts and have taken both the state and federal governments to court over them. Activists delayed a 9,000-acre forest thinning project in California for 10 years, citing potential threats to spotted owl habitat. However, the unthinned forest ultimately burned in a wildfire, destroying the very owl habitat they had sought to protect. The Sacramento Bee reported that one womanâ€™s lawsuit over another California forest-thinning project forced the government to process 19,193 pages of paperwork. And to top it off, in 2007, the Sierra Club successfully sued the Forest Service to prevent it from exempting small, controlled burns. In California, it takes months to get approval for a controlled burn, while in Florida it takes mere minutes.  Still, as Kevin Drum wrote in â€œWhy donâ€™t we do more prescribed burning? An explainer.â€ regulations are part of the problem, but they arenâ€™t the only thing stopping controlled burns: The biggest impediments are public opposition, rising insurance costs, resource constraints, and the risk-averse views of forest managers, many of whom are still wary of prescribed burns. This is partly for technical reasons and partly out of fear. Only one out of a thousand prescribed burns gets out of control, but thatâ€™s enough. If officials conduct a prescribed burn that gets out of control, they face serious consequences and liability. However, when devastating wildfires destroy communities and landscapes due to long-term neglect of forest management, no one is held accountable for these preventable disasters. The cumulative result is that fewer acres are burned than what experts would want. Insurers will face pressure as people inevitably rebuild, and something will break. Californiaâ€™s insurance system requires a public hearing and an affirmative approval by elected insurance commissioners to increase rates. But Proposition 103, which passed in 1988 to reform Californiaâ€™s insurance regulations, is unique in that it allows nonprofit organizations to collect fees when they challenge proposed insurance rate hikes. Californiaâ€™s system is generally viewed as unmatched in terms of the extent to which consumers and advocacy groups can formally intervene in insurance rate filings. As a result, insurance companies have stopped issuing new policies that cover fire. This, in turn, has put pressure on the stateâ€™s insurer of last resort, FAIR. But even FAIR is buckling under all the payouts. For years, the Pacific Palisades has been cited as one of the largest areas of exposure for FAIR at nearly $6 billion. As it last reported, however, FAIR had about $700 million in cash and even though it caps payments at $3 million, it likely will need a bailout. Still, I think it is telling that Newsomâ€™s immediate policy response was an executive order that suspended CEQA review and California Coastal Act permitting for properties being reconstructed. His executive order didnâ€™t just streamline reconstruction. It laid bare a paradox at the heart of the stateâ€™s regulatory framework. By suspending both CEQA review and Coastal Act permitting for rebuilding, while directing agencies to identify other regulations that could be safely relaxed, Newsom tacitly acknowledged what many have long suspected. If these rules can be safely suspended during our most challenging moments when careful oversight should matter most, perhaps itâ€™s time to reevaluate their necessity during calmer times as well. My former colleague Tahra Jirari made a similar point recently, writing that, â€œRather than temporarily waiving them just for rebuilding, we should seize this moment to create a permanently more functional system.â€ As a Los Angeleno, sheâ€™s been in the middle of this disaster, and as an economist, sheâ€™s been thinking about how to rebuild better. As she told me, even with the suspension of CEQA and California Coastal Commission rules, â€œcurrent policies are quite restrictive and will make it difficult to rebuild. All of this has made us more vulnerable than we should be because we need to build densely away from fire-prone zones.â€  Many L.A. residents love being near nature and the chaparral, but they donâ€™t understand the risk. Every so often, the region will burn in a hot blaze. This isnâ€™t a failure of policy or prevention. Itâ€™s the fundamental nature of this ecosystem. Living in the chaparral means accepting its cycles: long periods of beautiful, rugged wilderness punctuated by devastating fires that canâ€™t be tamed. The question isnâ€™t how to prevent these fires entirely, but how to build and live with the knowledge that they will inevitably return. Until next week, ðŸš€ Will",
         "TheDispatch",
         "lean right",
         "welcome back techne star trek writer got around problem language translation inventing universal translator researcher tech giant meta seem inching toward tech recent paper nature describes created machinelearning system almost instantaneously translates speech language word spoken voice synthesizer target language los angeles continues burn writing palisade fire spread acre percent contained mean percent fireâs perimeter controlled firefighter containment line eaton fire currently stand acre burned percent containment rogers state park gone home celebrity paris hilton mandy moore billy crystal many others gone home business school burned people died accuweather estimated cost rebuild billion billion sure rise online commenters quick blame byzantine regulatory system california magnitude disaster often good heuristic since californiaâs bad policy affect many aspect life conflagration seems natural disaster pure policy disaster many may know fire occur near los angeles itâs located middle chaparral shrubland type ecosystem grows around rocky mediterraneantype region unlike forest prairie fire chaparral infrequent intensely hot native american california deliberately set fire shrubland trying maintain chaparral transform grassland hunting southern california could transform grassland would advantage fire management would come destruction chaparral understanding ecosystem crucial longterm planning immediate focus recovery rebuilding gov gavin newsomâs first major action suspend california environmental quality act ceqa california coastal actâs permitting system explained x suspension âœwill allow victim socal fire get caught bureaucratic red tape quickly rebuild homesâ glad suspension becoming norm natural disaster fasttrack rebuilding also hint uncomfortable truth government normal rule actively prevent u solving urgent problem rule safely suspended challenging momentsâwhen careful oversight matter mostâthen itâs time reevaluate necessity calmer time well los angeles dominated chaparral type scrub occurs mediterranean climate dense rocky soil chaparral dominated pyrophytes name botanist give plant need fireâand smoke recently foundâto germinate seed massive swift infrequent conflagration common wherever chaparral occurs includes part california oregon baja california chile south africa australia chaparral grows way creates unbroken layer fuel ground way vegetation making intense fire unavoidable called crown fire burn top plant differs forest fire primarily burn near ground separation forest floor tree canopy western part los angeles uniquely vulnerable disaster urban theorist mike davis wrote âœthe case letting malibu burnâ due âœthe uncanny alignment coastal canyon annual âfire windsâ north notorious santa anasâ shape âœsan fernando valley act giant bellow sometimes fanning santa ana hurricane velocity roar seaward narrow canyon rugged defile santa monica mountain add spark dense dry vegetation occasion hillside explode uncontrollable wildfireâ infrequent uncontrollable wildfire understood key part life cycle chaparral richard w halsey california chaparral institute alexandra syphard conservation biology institute explained âœhighseverity fire chaparral cognitive dissonance shrublandsâ although counterintuitive chaparral plant community much resilient infrequent highintensity fire frequent lowerintensity fire keeley et al chaparral sufficient time replenish soil seed bank accumulate biomass necessary produce fire hot enough successfully germinate firecued seed allow resprouting specie time restore starch supply underground lignotubers cascading series event begin significantly change eliminate plant community fire return interval less â year biodiversity reduced nonnative weed grass typically invade ultimately typeconverting native shrubland nonnative grassland brook et al true native american southern california actively setting fire long european arrived itâs likely eliminate shrubland help grass grow grassland animal could hunted land say native californian werenât maintaining healthy chaparral fuel buildup invariably blamed occurrence large chaparral wildfire one commenter marginal revolution blog example relayed seeing local news broadcast week ago man lost house made point neighbor created condition house others burn neighbor allowed brush around neighborâs house grow thick high creating fire bomb ember hit brush brush didnât need controlled burn needed weed whacker device keep cut researcher balking idea contrary popular belief fire suppression like preventing fighting fire hasnât disrupted natural fire pattern area fact fire suppression actually helpful itâs protected chaparral burning frequently would harmful ecosystem prefers cycle year without fire suppression effort humancaused fire would resulted vegetation burning far often historically fire suppression helped maintain natural fire pattern long term chaparral set go blaze condition right abnormally strong rain drove plant growth became tinderbox year lack rain unusually strong wind gave air quickly expand mondayâs morning dispatch excellent job explaining came together conventional wisdom suggests need frequent controlled burn prevent disaster science chaparral tell different story ecosystem donât tolerate massive conflagration require survival devastation witnessed wasnât aberration result poor fire management chaparral operating exactly nature intended timeline measured year decade understanding reality essential anyone choosing live beautiful periodically explosive landscape make controlled burn illsuited southern californiaâs chaparral isnât say controlled burn arenât needed elsewhere ecosystem california controlled burn stymied delay like government action controlled burn subjected national environmental policy act nepa ceqa californiaâs version law environmental group arenât fan controlled burn thinning effort taken state federal government court activist delayed acre forest thinning project california year citing potential threat spotted owl habitat however unthinned forest ultimately burned wildfire destroying owl habitat sought protect sacramento bee reported one womanâs lawsuit another california forestthinning project forced government process page paperwork top sierra club successfully sued forest service prevent exempting small controlled burn california take month get approval controlled burn florida take mere minute still kevin drum wrote âœwhy donât prescribed burning explainerâ regulation part problem arenât thing stopping controlled burn biggest impediment public opposition rising insurance cost resource constraint riskaverse view forest manager many still wary prescribed burn partly technical reason partly fear one thousand prescribed burn get control thatâs enough official conduct prescribed burn get control face serious consequence liability however devastating wildfire destroy community landscape due longterm neglect forest management one held accountable preventable disaster cumulative result fewer acre burned expert would want insurer face pressure people inevitably rebuild something break californiaâs insurance system requires public hearing affirmative approval elected insurance commissioner increase rate proposition passed reform californiaâs insurance regulation unique allows nonprofit organization collect fee challenge proposed insurance rate hike californiaâs system generally viewed unmatched term extent consumer advocacy group formally intervene insurance rate filing result insurance company stopped issuing new policy cover fire turn put pressure stateâs insurer last resort fair even fair buckling payouts year pacific palisade cited one largest area exposure fair nearly billion last reported however fair million cash even though cap payment million likely need bailout still think telling newsomâs immediate policy response executive order suspended ceqa review california coastal act permitting property reconstructed executive order didnât streamline reconstruction laid bare paradox heart stateâs regulatory framework suspending ceqa review coastal act permitting rebuilding directing agency identify regulation could safely relaxed newsom tacitly acknowledged many long suspected rule safely suspended challenging moment careful oversight matter perhaps itâs time reevaluate necessity calmer time well former colleague tahra jirari made similar point recently writing âœrather temporarily waiving rebuilding seize moment create permanently functional systemâ los angeleno sheâs middle disaster economist sheâs thinking rebuild better told even suspension ceqa california coastal commission rule âœcurrent policy quite restrictive make difficult rebuild made u vulnerable need build densely away fireprone zonesâ many la resident love near nature chaparral donât understand risk every often region burn hot blaze isnât failure policy prevention itâs fundamental nature ecosystem living chaparral mean accepting cycle long period beautiful rugged wilderness punctuated devastating fire canât tamed question isnât prevent fire entirely build live knowledge inevitably return next week ðÿš"
        ],
        [
         "2",
         "Los Angelesâ€™ Destruction Was Fueled by Bad Policyâ€”and Bad Incentives",
         "https://thedispatch.com/newsletter/capitolism/los-angeles-destruction-was-fueled-by-bad-policy-and-bad-incentives/",
         "As fire still rages in the Los Angeles area, Iâ€™ve been torn about whether to write about it. Beyond the very real tragedies and my general rule against public dunking, a lot of whatâ€™s going on out there has nothing to do with policy. As our friends at The Morning Dispatch explained, for example, national experts and folks on the ground seem to agree that the unfortunate and freakish confluence of several meteorological phenomenaâ€”especially the hurricane-force winds and recent lack of rainâ€”made much of the damage in and around L.A. unavoidable regardless of the policies in place or the people in charge. And much of the knee-jerk, partisan hysteria surrounding the fires has proven to be premature, half-baked, or just plain wrongâ€”not to mention distasteful. On the other hand, there do appear to be several policies that, while they didnâ€™t cause the fires, probably made things in L.A. today worse than theyâ€™d otherwise beâ€”perhaps by a significant margin. They fit squarely within the stuff we talk about all the time here at Capitolism and provide lessons about not only the L.A. fires but also how (ostensibly) good policy intentions can generate really bad outcomes, thanks in large part to some equally bad incentives for all the people involved. The place to start is Californiaâ€™s onerous regulation of homeowners insurance, which has probably encouraged many Angelenos to live in more fire-prone areas and has kept many of them underinsured or without insurance entirely. As economist Brian Albrecht detailed last week, citing a deep dive paper from his colleagues at the International Center for Law and Economics (ICLE), Californiaâ€™s Proposition 103 forces private insurers to price their products not just below hypothetical market rates but well below their costâ€”creating â€œthe biggest gap between rates and risk in the nation.â€ Albrecht adds that the system is also highly inflexible and insanely slow: Californiaâ€™s speed of rate approvals ranked second-to-last among the 50 states (and D.C.) over the last five years, with an average of 236 days for homeowners insurance. And itâ€™s been getting worse:",
         "TheDispatch",
         "lean right",
         "fire still rage los angeles area iâve torn whether write beyond real tragedy general rule public dunking lot whatâs going nothing policy friend morning dispatch explained example national expert folk ground seem agree unfortunate freakish confluence several meteorological phenomenaâespecially hurricaneforce wind recent lack rainâmade much damage around la unavoidable regardless policy place people charge much kneejerk partisan hysteria surrounding fire proven premature halfbaked plain wrongânot mention distasteful hand appear several policy didnât cause fire probably made thing la today worse theyâd otherwise beâperhaps significant margin fit squarely within stuff talk time capitolism provide lesson la fire also ostensibly good policy intention generate really bad outcome thanks large part equally bad incentive people involved place start californiaâs onerous regulation homeowner insurance probably encouraged many angelenos live fireprone area kept many underinsured without insurance entirely economist brian albrecht detailed last week citing deep dive paper colleague international center law economics icle californiaâs proposition force private insurer price product hypothetical market rate well costâcreating âœthe biggest gap rate risk nationâ albrecht add system also highly inflexible insanely slow californiaâs speed rate approval ranked secondtolast among state dc last five year average day homeowner insurance itâs getting worse"
        ],
        [
         "3",
         "Acquiring Greenland Is a Good Idea. Threatening Force to Do So Is Not.",
         "https://thedispatch.com/article/acquiring-greenland-is-a-good-idea-threatening-force-to-do-so-is-not/",
         "Whether it was Will Rogers or Tony Soprano, the old suggestion to â€œbuy land, Godâ€™s not making any more of itâ€ is good real estate advice, but itâ€™s hardly an iron law. First of all, God does make more land from time to time. And so do humans. This raises a second famous piece of advice, also of unclear authorship. When it comes to real estate only three things matter: location, location, and location. And that brings us to Greenland. Donald Trump wants to acquire it. Nay, he says we need to acquire it. The last time he was president, he floated the idea and was roundly mocked for it. But not by me, and I am hardly averse to mocking Trump when the moment calls for it. For myriad reasons, it would be in our interest for the United States to annex, lease, absorb, or otherwise acquire the giant island. The most important of these reasons is, of course, location. Thatâ€™s why Iâ€™ve long thought acquiring Greenlandâ€”peacefully!â€”was a good idea. (Indeed, last year, I despaired of the â€œGreenland effectâ€â€”the phenomenon whereby Trumpâ€™s embrace of a good idea makes it less popular.). But my opinion doesnâ€™t count for much. James Stavridis, the former supreme allied commander of NATO, and hardly a MAGA toady, agrees. He writes that the Mexico-sized island â€œis a vital element of the Greenland-Iceland-UK â€˜gapâ€™ that guards the northern approaches to the Atlantic Ocean from Russian naval forces.â€ Itâ€™s also believed Greenland has huge deposits of crucial rare-earth minerals, essential to all manner of high-tech industries, industries China is trying to control or dominate, in part by establishing a near monopoly on such resources. Long before anyone appreciated the importance of this stuff, the Truman administration recognized the value of Greenland and tried to persuade the Danes â€”who administer the quasi-independent nationâ€”to part with it. The Danes politely said no. But the issue was mostly resolved a few years later when Denmark became a founding member of the NATO alliance. They agreed to work with us on using it to bolster Western defenses. Trump claims thatâ€™s not good enough. In a recent press conference, Trump refused to rule out the use of force to take Greenland (and the Panama Canal). â€œFor purposes of National Security and Freedom throughout the World, the United States of America feels that the ownership and control of Greenland is an absolute necessity,â€ Trump insists. The best defenseâ€”really the only defenseâ€”of Trumpâ€™s rhetoric is that itâ€™s a negotiating tactic: Start with an outlandish ask, and then find a compromise that would have been impossible without it. Again, the problem with this classic example of turd-polishing Trumpâ€™s rhetoricâ€”â€œtake him seriously, not literallyâ€ as they sayâ€”is that Denmark and Greenland are already generously cooperating with the U.S. on national security issues. We literally have a vital military installation in Greenland already. So, what could that compromise be? Some special leasing deal for mining? Okay, maybe. But, surely, thereâ€™s a better way to pursue that with a longtime ally than threatening military force? Acquiring Greenland is a serious idea, but pursuing it in an unserious way is worse than not pursuing it at all. If Trump went full Putin and invaded Greenlandâ€”or even seriously threatened to by deploying ships to intimidate Denmarkâ€”it would likely spell the end of NATO. The supposed rationale for controlling Greenland is to deter Russia and protect the â€œfreedomâ€ of the world. But Putin would see the implosion of NATO as a small price for the transformation of Greenland into an arctic Puerto Rico. (By the way, Trump floated the idea of trading Puerto Rico for Greenland.)  Even more annoying: Trump and his sycophants have spent the better part of the last decade insisting that the GOP was kidnapped by â€œneoconâ€ warmongers and imperialists hell-bent on â€œprovokingâ€ â€œforeign warsâ€ for abstract goals like â€œfreedom.â€ Say what you will about the calumnies and blood libel against â€œneocons,â€ none of them floated the idea of provoking a foreign war with democratic allies. But when Trump threatens exactly that, well, thatâ€™s just so cool apparently. The people who insist that Trumpian nationalism is a Very Serious Idea invariably find themselves having to bend their Very Serious Arguments to the fact that Trump doesnâ€™t care about arguments and ideas. Heâ€™s just a real estate guy who likes putting his name on stuff.",
         "TheDispatch",
         "lean right",
         "whether rogers tony soprano old suggestion âœbuy land godâs making itâ good real estate advice itâs hardly iron law first god make land time time human raise second famous piece advice also unclear authorship come real estate three thing matter location location location brings u greenland donald trump want acquire nay say need acquire last time president floated idea roundly mocked hardly averse mocking trump moment call myriad reason would interest united state annex lease absorb otherwise acquire giant island important reason course location thatâs iâve long thought acquiring greenlandâpeacefullyâwas good idea indeed last year despaired âœgreenland effectââthe phenomenon whereby trumpâs embrace good idea make less popular opinion doesnât count much james stavridis former supreme allied commander nato hardly maga toady agrees writes mexicosized island âœis vital element greenlandicelanduk âgapâ guard northern approach atlantic ocean russian naval forcesâ itâs also believed greenland huge deposit crucial rareearth mineral essential manner hightech industry industry china trying control dominate part establishing near monopoly resource long anyone appreciated importance stuff truman administration recognized value greenland tried persuade dane âwho administer quasiindependent nationâto part dane politely said issue mostly resolved year later denmark became founding member nato alliance agreed work u using bolster western defense trump claim thatâs good enough recent press conference trump refused rule use force take greenland panama canal âœfor purpose national security freedom throughout world united state america feel ownership control greenland absolute necessityâ trump insists best defenseâreally defenseâof trumpâs rhetoric itâs negotiating tactic start outlandish ask find compromise would impossible without problem classic example turdpolishing trumpâs rhetoricââœtake seriously literallyâ sayâis denmark greenland already generously cooperating u national security issue literally vital military installation greenland already could compromise special leasing deal mining okay maybe surely thereâs better way pursue longtime ally threatening military force acquiring greenland serious idea pursuing unserious way worse pursuing trump went full putin invaded greenlandâor even seriously threatened deploying ship intimidate denmarkâit would likely spell end nato supposed rationale controlling greenland deter russia protect âœfreedomâ world putin would see implosion nato small price transformation greenland arctic puerto rico way trump floated idea trading puerto rico greenland even annoying trump sycophant spent better part last decade insisting gop kidnapped âœneoconâ warmonger imperialist hellbent âœprovokingâ âœforeign warsâ abstract goal like âœfreedomâ say calumny blood libel âœneoconsâ none floated idea provoking foreign war democratic ally trump threatens exactly well thatâs cool apparently people insist trumpian nationalism serious idea invariably find bend serious argument fact trump doesnât care argument idea heâs real estate guy like putting name stuff"
        ],
        [
         "4",
         "Assessing Trumpâ€™s Expansionist Designs",
         "https://thedispatch.com/newsletter/morning/assessing-trumps-expansionist-designs/",
         "Happy Friday! If anyone was wondering, Belgiumâ€™s food agency has officially warned against eating your Christmas tree. But donâ€™t change your dinner plans just yetâ€”Sweden says itâ€™s fine.  Weâ€™ll let our brave readers tell us which country is right.  Less than two weeks until President-elect Donald Trumpâ€™s inauguration, journalists and commentators got their first fully fledged goose chase of the new administration during a press conference at Mar-a-Lago on Tuesday. ",
         "TheDispatch",
         "lean right",
         "happy friday anyone wondering belgiumâs food agency officially warned eating christmas tree donât change dinner plan yetâsweden say itâs fine weâll let brave reader tell u country right less two week presidentelect donald trumpâs inauguration journalist commentator got first fully fledged goose chase new administration press conference maralago tuesday"
        ]
       ],
       "shape": {
        "columns": 6,
        "rows": 5
       }
      },
      "text/html": [
       "<div>\n",
       "<style scoped>\n",
       "    .dataframe tbody tr th:only-of-type {\n",
       "        vertical-align: middle;\n",
       "    }\n",
       "\n",
       "    .dataframe tbody tr th {\n",
       "        vertical-align: top;\n",
       "    }\n",
       "\n",
       "    .dataframe thead th {\n",
       "        text-align: right;\n",
       "    }\n",
       "</style>\n",
       "<table border=\"1\" class=\"dataframe\">\n",
       "  <thead>\n",
       "    <tr style=\"text-align: right;\">\n",
       "      <th></th>\n",
       "      <th>Title</th>\n",
       "      <th>Link</th>\n",
       "      <th>Text</th>\n",
       "      <th>Source</th>\n",
       "      <th>Bias</th>\n",
       "      <th>Processed_Text</th>\n",
       "    </tr>\n",
       "  </thead>\n",
       "  <tbody>\n",
       "    <tr>\n",
       "      <th>0</th>\n",
       "      <td>John Boltonâ€™s Advice for the â€˜Continuing T...</td>\n",
       "      <td>https://thedispatch.com/article/john-boltons-a...</td>\n",
       "      <td>With just days until his inauguration, it woul...</td>\n",
       "      <td>TheDispatch</td>\n",
       "      <td>lean right</td>\n",
       "      <td>day inauguration would shock learn donald trum...</td>\n",
       "    </tr>\n",
       "    <tr>\n",
       "      <th>1</th>\n",
       "      <td>Why Shrubland Makes Southern Californiaâ€™s Wi...</td>\n",
       "      <td>https://thedispatch.com/newsletter/techne/why-...</td>\n",
       "      <td>Welcome back to Techne! In Star Trek, writers ...</td>\n",
       "      <td>TheDispatch</td>\n",
       "      <td>lean right</td>\n",
       "      <td>welcome back techne star trek writer got aroun...</td>\n",
       "    </tr>\n",
       "    <tr>\n",
       "      <th>2</th>\n",
       "      <td>Los Angelesâ€™ Destruction Was Fueled by Bad P...</td>\n",
       "      <td>https://thedispatch.com/newsletter/capitolism/...</td>\n",
       "      <td>As fire still rages in the Los Angeles area, I...</td>\n",
       "      <td>TheDispatch</td>\n",
       "      <td>lean right</td>\n",
       "      <td>fire still rage los angeles area iâve torn whe...</td>\n",
       "    </tr>\n",
       "    <tr>\n",
       "      <th>3</th>\n",
       "      <td>Acquiring Greenland Is a Good Idea. Threatenin...</td>\n",
       "      <td>https://thedispatch.com/article/acquiring-gree...</td>\n",
       "      <td>Whether it was Will Rogers or Tony Soprano, th...</td>\n",
       "      <td>TheDispatch</td>\n",
       "      <td>lean right</td>\n",
       "      <td>whether rogers tony soprano old suggestion âœb...</td>\n",
       "    </tr>\n",
       "    <tr>\n",
       "      <th>4</th>\n",
       "      <td>Assessing Trumpâ€™s Expansionist Designs</td>\n",
       "      <td>https://thedispatch.com/newsletter/morning/ass...</td>\n",
       "      <td>Happy Friday! If anyone was wondering, Belgium...</td>\n",
       "      <td>TheDispatch</td>\n",
       "      <td>lean right</td>\n",
       "      <td>happy friday anyone wondering belgiumâs food a...</td>\n",
       "    </tr>\n",
       "  </tbody>\n",
       "</table>\n",
       "</div>"
      ],
      "text/plain": [
       "                                               Title  \\\n",
       "0  John Boltonâ€™s Advice for the â€˜Continuing T...   \n",
       "1  Why Shrubland Makes Southern Californiaâ€™s Wi...   \n",
       "2  Los Angelesâ€™ Destruction Was Fueled by Bad P...   \n",
       "3  Acquiring Greenland Is a Good Idea. Threatenin...   \n",
       "4           Assessing Trumpâ€™s Expansionist Designs   \n",
       "\n",
       "                                                Link  \\\n",
       "0  https://thedispatch.com/article/john-boltons-a...   \n",
       "1  https://thedispatch.com/newsletter/techne/why-...   \n",
       "2  https://thedispatch.com/newsletter/capitolism/...   \n",
       "3  https://thedispatch.com/article/acquiring-gree...   \n",
       "4  https://thedispatch.com/newsletter/morning/ass...   \n",
       "\n",
       "                                                Text       Source        Bias  \\\n",
       "0  With just days until his inauguration, it woul...  TheDispatch  lean right   \n",
       "1  Welcome back to Techne! In Star Trek, writers ...  TheDispatch  lean right   \n",
       "2  As fire still rages in the Los Angeles area, I...  TheDispatch  lean right   \n",
       "3  Whether it was Will Rogers or Tony Soprano, th...  TheDispatch  lean right   \n",
       "4  Happy Friday! If anyone was wondering, Belgium...  TheDispatch  lean right   \n",
       "\n",
       "                                      Processed_Text  \n",
       "0  day inauguration would shock learn donald trum...  \n",
       "1  welcome back techne star trek writer got aroun...  \n",
       "2  fire still rage los angeles area iâve torn whe...  \n",
       "3  whether rogers tony soprano old suggestion âœb...  \n",
       "4  happy friday anyone wondering belgiumâs food a...  "
      ]
     },
     "execution_count": 20,
     "metadata": {},
     "output_type": "execute_result"
    }
   ],
   "source": [
    "df.head()"
   ]
  },
  {
   "cell_type": "code",
   "execution_count": 21,
   "metadata": {},
   "outputs": [
    {
     "data": {
      "text/plain": [
       "'With just days until his inauguration, it would not be a shock to learn that Donald Trump is walking around Mar-a-Lago singing Starshipâ€™s No. 1 hit song from 1987 (the same year he published The Art of the Deal): â€œNothingâ€™s Gonna Stop Us Now.â€\\x9d Confirmation hearings for Cabinet-level posts are moving right along, with Republican senators getting in line. The transition from the Biden administration to Trumpâ€™s has been relatively smooth. Politically, Trump has never been more popular. Itâ€™s a period of such good feelings that even (some) Democrats are playing nice with Trump. â€œEverybodyâ€™s optimistic. Everything seems possible. No limits appear,â€\\x9d says executive branch veteran John Bolton. â€œIt lasts right up until noon on the 20th, when reality strikes.â€\\x9d Up to now, the focus of most commentary and reporting has been how the second Trump administration will reshape the country and the world: the national economy, the countryâ€™s global standing, both the operation of government and everyday life in the nationâ€™s capital, the trajectory of American politics, Congress, big business, and even popular culture.  But as it has in past administrations, the world itself has the ability to stop a presidency dead in its tracks. So how should an incoming Trump official think about the incredible, and most likely incredibly frustrating, challenges to come? On Monday the work of the second Trump administration will begin in earnest, starting with the more than 100 executive orders promised by his transition. There will still be plenty of confirmations to go through, not just for Cabinet secretaries and prominent agency heads, but many of the lower-level but still Senate-confirmed positions Trump will need to fill. The process for accomplishing his legislative agenda remains a mystery to his allies in Congress. Nor do the Republican Partyâ€™s margins in both houses of Congress leave much room for error. And the looming midterm elections of 2026 will start the clock on how much real time this already-lame duck president has to get it all done before a potential shift in power in Washington. On top of all that are what Donald Rumsfeld called the known and unknown unknowns that can throw a presidency off its plan: natural disasters, terrorist attacks, international incidents, economic calamities. Trump had direct experience with this in the form of the COVID outbreak in 2020. A development in Ukraine or a provocation from China could complicate whatever domestic plans the Trump administration has. So, too, could injunctions and lawsuits in response to his executive actions.  So while Trump is now an old hand at being president, the real work of governing falls to the thousands of appointees, advisers, and staff of the executive branch. That, says Bolton, is where the real actionâ€”and real obstaclesâ€”will appear. â€œWhen it comes to the running of departments and agencies, day by day, a lot depends on the deputy secretary, the undersecretaries, the assistant secretaries, and those we still donâ€™t know a bunch about. So in that sense, the transition continues, except it continues under the gun, [when] youâ€™re making policy, making decisions that every day that have real world consequences,â€\\x9d Bolton says. And he would know. The 76-year-old attorney has served in every Republican administration since Ronald Reaganâ€™s, including multiple positions in both the Justice and State departments. From perches that run the gamut from mid-level agency administrator to Trumpâ€™s national security adviser from 2018 to 2019, Bolton has seen administrations struggle with the responsibilities of governance from multiple vantage points. Itâ€™s hard to live up to the promises of a campaign, no matter how unified your party is or how poorly your predecessor performed. And beyond the base level of difficulty in running a massive government bureaucracy, implementing policy, and spending political capital effectively, carrying out the business of a Trump administration is uniquely demanding. It requires officials and staff to be prepared for the whiplash of contradictory directives or sudden decisionmaking from a capricious chief executive, who, as Bolton recently wrote for the New York Times, expects loyalty to himself above all. Boltonâ€™s advice to those coming in to work for the administration? Be prepared for all of that. â€œPeople who have been in the government before have seen how presidents have operated who are disciplined,â€\\x9d Bolton says. â€œGeorge H.W. Bush being perhaps the most disciplined, but Reagan had a certain discipline. George W. Bush had a certain discipline. Trump doesnâ€™t have a discipline, and that is hard just in the regular course of trying to decide policy.â€\\x9d Like many who worked for Trump during his first presidential tenure, Bolton has been vocal about how tumultuous the work can be. But for those who will be navigating what he calls the â€œcontinuing turmoilâ€\\x9d of advising Trump, Bolton has some straightforward recommendations. â€œIf youâ€™re a senior official, White House staff, Cabinet officer, whatever it might be, your job is to present to the president the information that he should have to make a decision. Present the options, get a decision, and then carry it out,â€\\x9d he says. â€œAnd you canâ€™t be held responsible if he doesnâ€™t care about the information youâ€™re providing or doesnâ€™t want to look at options, thatâ€™s still what you should do, because thatâ€™s what serves the country.â€\\x9d Sometimes the best policy could be keeping your head down, particularly if your corner of the government doesnâ€™t often grab Trumpâ€™s eye. â€œIn many departments and agencies, you know, if, once they get over there and begin to do the things they think that almost any Republican administration would do if Trump doesnâ€™t pay any attention to them, that could well be a blessing, because they could get a lot more done that way,â€\\x9d Bolton says. And knowing when to call it quits, too, is just as important. â€œWhen the time comes that your principles are being violated or you just donâ€™t think heâ€™s paying any attention to you, thatâ€™s the time to get out,â€\\x9d Bolton says. â€œAnd you shouldnâ€™t regret that, because you know this job is temporary going in, and as long as you know it could end tomorrow, you sleep a lot better at night and you perform better on the job.â€\\x9d'"
      ]
     },
     "execution_count": 21,
     "metadata": {},
     "output_type": "execute_result"
    }
   ],
   "source": [
    "data['Text'][0]"
   ]
  },
  {
   "cell_type": "code",
   "execution_count": 22,
   "metadata": {},
   "outputs": [
    {
     "data": {
      "text/plain": [
       "(4196, 6397)"
      ]
     },
     "execution_count": 22,
     "metadata": {},
     "output_type": "execute_result"
    }
   ],
   "source": [
    "len(df['Processed_Text'][0]),len(df['Text'][0])"
   ]
  },
  {
   "cell_type": "code",
   "execution_count": 23,
   "metadata": {},
   "outputs": [],
   "source": [
    "from sklearn.feature_extraction.text import TfidfVectorizer\n",
    "from sklearn.model_selection import train_test_split\n",
    "from sklearn.linear_model import LogisticRegression\n",
    "from sklearn.metrics import accuracy_score, classification_report, confusion_matrix,recall_score,precision_score,f1_score"
   ]
  },
  {
   "cell_type": "code",
   "execution_count": 24,
   "metadata": {},
   "outputs": [],
   "source": [
    "def vectorize_text(text, vectorizer):\n",
    "    vectorized_text = vectorizer.transform([text]) # Vectorize the text\n",
    "    return vectorized_text"
   ]
  },
  {
   "cell_type": "code",
   "execution_count": 25,
   "metadata": {},
   "outputs": [],
   "source": [
    "X,y = df['Processed_Text'], df['Bias']"
   ]
  },
  {
   "cell_type": "code",
   "execution_count": 26,
   "metadata": {},
   "outputs": [],
   "source": [
    "X_train, X_test, y_train, y_test = train_test_split(X, y, test_size=0.2, random_state=42)"
   ]
  },
  {
   "cell_type": "code",
   "execution_count": 27,
   "metadata": {},
   "outputs": [],
   "source": [
    "from sklearn.preprocessing import LabelEncoder"
   ]
  },
  {
   "cell_type": "code",
   "execution_count": 28,
   "metadata": {},
   "outputs": [],
   "source": [
    "def encode_labels(y_train, y_test):\n",
    "    le = LabelEncoder()\n",
    "    y_train_encoded = le.fit_transform(y_train) # Encode training labels\n",
    "    y_test_encoded = le.transform(y_test) # Encode testing labels\n",
    "    return y_train_encoded, y_test_encoded"
   ]
  },
  {
   "cell_type": "code",
   "execution_count": 29,
   "metadata": {},
   "outputs": [],
   "source": [
    "y_train_encoded, y_test_encoded = encode_labels(y_train, y_test)"
   ]
  },
  {
   "cell_type": "code",
   "execution_count": 30,
   "metadata": {},
   "outputs": [],
   "source": [
    "vectorizer = TfidfVectorizer(max_features=5000) # Initialize the TF-IDF vectorizer"
   ]
  },
  {
   "cell_type": "code",
   "execution_count": 31,
   "metadata": {},
   "outputs": [],
   "source": [
    "X_train_vectorized = vectorizer.fit_transform(X_train) # Vectorize the training text\n",
    "X_test_vectorized = vectorizer.transform(X_test) # Vectorize the testing text"
   ]
  },
  {
   "cell_type": "code",
   "execution_count": 32,
   "metadata": {},
   "outputs": [],
   "source": [
    "def train_model(X_train, y_train):\n",
    "    model = LogisticRegression(max_iter=1000) # Initialize the Logistic Regression model\n",
    "    model.fit(X_train, y_train) # Train the model\n",
    "    return model"
   ]
  },
  {
   "cell_type": "code",
   "execution_count": 33,
   "metadata": {},
   "outputs": [],
   "source": [
    "model = train_model(X_train_vectorized, y_train_encoded)"
   ]
  },
  {
   "cell_type": "code",
   "execution_count": 34,
   "metadata": {},
   "outputs": [],
   "source": [
    "predictions_tr = model.predict(X_train_vectorized) # Make predictions on the testing data\n",
    "predictions_te = model.predict(X_test_vectorized) # Make predictions on the testing data"
   ]
  },
  {
   "cell_type": "code",
   "execution_count": 35,
   "metadata": {},
   "outputs": [],
   "source": [
    "def metrics(y_train, y_test, predictions_tr, predictions_te):\n",
    "    train_accuracy = accuracy_score(y_train, predictions_tr) # Calculate training accuracy\n",
    "    test_accuracy = accuracy_score(y_test, predictions_te) # Calculate testing accuracy\n",
    "    train_recall = recall_score(y_train, predictions_tr) # Calculate training accuracy\n",
    "    test_recall = recall_score(y_test, predictions_te) # Calculate testing accuracy\n",
    "    train_precision = precision_score(y_train, predictions_tr) # Calculate training accuracy\n",
    "    test_precision = precision_score(y_test, predictions_te) # Calculate testing accuracy\n",
    "    # train_report = classification_report(y_train, predictions_tr) # Calculate training classification report\n",
    "    # test_report = classification_report(y_test, predictions_te) # Calculate testing classification report\n",
    "    # train_confusion_matrix = confusion_matrix(y_train, predictions_tr) # Calculate training confusion matrix\n",
    "    # test_confusion_matrix = confusion_matrix(y_test, predictions_te) # Calculate testing confusion matrix\n",
    "    res_dict = {\n",
    "        'Train Accuracy': train_accuracy,\n",
    "        'Test Accuracy': test_accuracy,\n",
    "        'Train Recall': train_recall,\n",
    "        'Test Recall': test_recall,\n",
    "        'Train Precision': train_precision,\n",
    "        'Test Precision': test_precision\n",
    "    }\n",
    "    return pd.DataFrame(res_dict, index=[0])"
   ]
  },
  {
   "cell_type": "code",
   "execution_count": 36,
   "metadata": {},
   "outputs": [],
   "source": [
    "def report(y_test, predictions_te):\n",
    "    report = classification_report(y_test, predictions_te)\n",
    "    return report"
   ]
  },
  {
   "cell_type": "code",
   "execution_count": 37,
   "metadata": {},
   "outputs": [
    {
     "name": "stdout",
     "output_type": "stream",
     "text": [
      "              precision    recall  f1-score   support\n",
      "\n",
      "           0       0.98      0.67      0.79       212\n",
      "           1       0.95      0.62      0.75       431\n",
      "           2       1.00      0.31      0.47       167\n",
      "           3       0.81      1.00      0.89      1486\n",
      "           4       0.94      0.89      0.92       421\n",
      "\n",
      "    accuracy                           0.85      2717\n",
      "   macro avg       0.93      0.70      0.76      2717\n",
      "weighted avg       0.87      0.85      0.84      2717\n",
      "\n"
     ]
    }
   ],
   "source": [
    "# Display the evaluation metrics --Train reort\n",
    "print(report(y_train_encoded, predictions_tr))"
   ]
  },
  {
   "cell_type": "code",
   "execution_count": 38,
   "metadata": {},
   "outputs": [
    {
     "name": "stdout",
     "output_type": "stream",
     "text": [
      "              precision    recall  f1-score   support\n",
      "\n",
      "           0       0.97      0.48      0.64        65\n",
      "           1       0.89      0.53      0.67        88\n",
      "           2       1.00      0.09      0.17        44\n",
      "           3       0.71      0.99      0.83       378\n",
      "           4       0.92      0.55      0.69       105\n",
      "\n",
      "    accuracy                           0.76       680\n",
      "   macro avg       0.90      0.53      0.60       680\n",
      "weighted avg       0.81      0.76      0.73       680\n",
      "\n"
     ]
    }
   ],
   "source": [
    "# Display the evaluation metrics --Test reort\n",
    "print(report(y_test_encoded, predictions_te))"
   ]
  },
  {
   "cell_type": "code",
   "execution_count": 39,
   "metadata": {},
   "outputs": [],
   "source": [
    "from sklearn.pipeline import Pipeline"
   ]
  },
  {
   "cell_type": "code",
   "execution_count": 40,
   "metadata": {},
   "outputs": [],
   "source": [
    "def build_model(): # Build the model pipeline\n",
    "    pipeline = Pipeline([\n",
    "        ('tfidf', TfidfVectorizer(max_features=5000)), # TF-IDF Vectorizer\n",
    "        ('logistic_regression', LogisticRegression(max_iter=1000)) # Logistic Regression Model\n",
    "    ])\n",
    "    return pipeline"
   ]
  },
  {
   "cell_type": "code",
   "execution_count": 41,
   "metadata": {},
   "outputs": [],
   "source": [
    "Pipeline_model = build_model() # Build the model"
   ]
  },
  {
   "cell_type": "code",
   "execution_count": 42,
   "metadata": {},
   "outputs": [
    {
     "data": {
      "text/html": [
       "<style>#sk-container-id-1 {\n",
       "  /* Definition of color scheme common for light and dark mode */\n",
       "  --sklearn-color-text: #000;\n",
       "  --sklearn-color-text-muted: #666;\n",
       "  --sklearn-color-line: gray;\n",
       "  /* Definition of color scheme for unfitted estimators */\n",
       "  --sklearn-color-unfitted-level-0: #fff5e6;\n",
       "  --sklearn-color-unfitted-level-1: #f6e4d2;\n",
       "  --sklearn-color-unfitted-level-2: #ffe0b3;\n",
       "  --sklearn-color-unfitted-level-3: chocolate;\n",
       "  /* Definition of color scheme for fitted estimators */\n",
       "  --sklearn-color-fitted-level-0: #f0f8ff;\n",
       "  --sklearn-color-fitted-level-1: #d4ebff;\n",
       "  --sklearn-color-fitted-level-2: #b3dbfd;\n",
       "  --sklearn-color-fitted-level-3: cornflowerblue;\n",
       "\n",
       "  /* Specific color for light theme */\n",
       "  --sklearn-color-text-on-default-background: var(--sg-text-color, var(--theme-code-foreground, var(--jp-content-font-color1, black)));\n",
       "  --sklearn-color-background: var(--sg-background-color, var(--theme-background, var(--jp-layout-color0, white)));\n",
       "  --sklearn-color-border-box: var(--sg-text-color, var(--theme-code-foreground, var(--jp-content-font-color1, black)));\n",
       "  --sklearn-color-icon: #696969;\n",
       "\n",
       "  @media (prefers-color-scheme: dark) {\n",
       "    /* Redefinition of color scheme for dark theme */\n",
       "    --sklearn-color-text-on-default-background: var(--sg-text-color, var(--theme-code-foreground, var(--jp-content-font-color1, white)));\n",
       "    --sklearn-color-background: var(--sg-background-color, var(--theme-background, var(--jp-layout-color0, #111)));\n",
       "    --sklearn-color-border-box: var(--sg-text-color, var(--theme-code-foreground, var(--jp-content-font-color1, white)));\n",
       "    --sklearn-color-icon: #878787;\n",
       "  }\n",
       "}\n",
       "\n",
       "#sk-container-id-1 {\n",
       "  color: var(--sklearn-color-text);\n",
       "}\n",
       "\n",
       "#sk-container-id-1 pre {\n",
       "  padding: 0;\n",
       "}\n",
       "\n",
       "#sk-container-id-1 input.sk-hidden--visually {\n",
       "  border: 0;\n",
       "  clip: rect(1px 1px 1px 1px);\n",
       "  clip: rect(1px, 1px, 1px, 1px);\n",
       "  height: 1px;\n",
       "  margin: -1px;\n",
       "  overflow: hidden;\n",
       "  padding: 0;\n",
       "  position: absolute;\n",
       "  width: 1px;\n",
       "}\n",
       "\n",
       "#sk-container-id-1 div.sk-dashed-wrapped {\n",
       "  border: 1px dashed var(--sklearn-color-line);\n",
       "  margin: 0 0.4em 0.5em 0.4em;\n",
       "  box-sizing: border-box;\n",
       "  padding-bottom: 0.4em;\n",
       "  background-color: var(--sklearn-color-background);\n",
       "}\n",
       "\n",
       "#sk-container-id-1 div.sk-container {\n",
       "  /* jupyter's `normalize.less` sets `[hidden] { display: none; }`\n",
       "     but bootstrap.min.css set `[hidden] { display: none !important; }`\n",
       "     so we also need the `!important` here to be able to override the\n",
       "     default hidden behavior on the sphinx rendered scikit-learn.org.\n",
       "     See: https://github.com/scikit-learn/scikit-learn/issues/21755 */\n",
       "  display: inline-block !important;\n",
       "  position: relative;\n",
       "}\n",
       "\n",
       "#sk-container-id-1 div.sk-text-repr-fallback {\n",
       "  display: none;\n",
       "}\n",
       "\n",
       "div.sk-parallel-item,\n",
       "div.sk-serial,\n",
       "div.sk-item {\n",
       "  /* draw centered vertical line to link estimators */\n",
       "  background-image: linear-gradient(var(--sklearn-color-text-on-default-background), var(--sklearn-color-text-on-default-background));\n",
       "  background-size: 2px 100%;\n",
       "  background-repeat: no-repeat;\n",
       "  background-position: center center;\n",
       "}\n",
       "\n",
       "/* Parallel-specific style estimator block */\n",
       "\n",
       "#sk-container-id-1 div.sk-parallel-item::after {\n",
       "  content: \"\";\n",
       "  width: 100%;\n",
       "  border-bottom: 2px solid var(--sklearn-color-text-on-default-background);\n",
       "  flex-grow: 1;\n",
       "}\n",
       "\n",
       "#sk-container-id-1 div.sk-parallel {\n",
       "  display: flex;\n",
       "  align-items: stretch;\n",
       "  justify-content: center;\n",
       "  background-color: var(--sklearn-color-background);\n",
       "  position: relative;\n",
       "}\n",
       "\n",
       "#sk-container-id-1 div.sk-parallel-item {\n",
       "  display: flex;\n",
       "  flex-direction: column;\n",
       "}\n",
       "\n",
       "#sk-container-id-1 div.sk-parallel-item:first-child::after {\n",
       "  align-self: flex-end;\n",
       "  width: 50%;\n",
       "}\n",
       "\n",
       "#sk-container-id-1 div.sk-parallel-item:last-child::after {\n",
       "  align-self: flex-start;\n",
       "  width: 50%;\n",
       "}\n",
       "\n",
       "#sk-container-id-1 div.sk-parallel-item:only-child::after {\n",
       "  width: 0;\n",
       "}\n",
       "\n",
       "/* Serial-specific style estimator block */\n",
       "\n",
       "#sk-container-id-1 div.sk-serial {\n",
       "  display: flex;\n",
       "  flex-direction: column;\n",
       "  align-items: center;\n",
       "  background-color: var(--sklearn-color-background);\n",
       "  padding-right: 1em;\n",
       "  padding-left: 1em;\n",
       "}\n",
       "\n",
       "\n",
       "/* Toggleable style: style used for estimator/Pipeline/ColumnTransformer box that is\n",
       "clickable and can be expanded/collapsed.\n",
       "- Pipeline and ColumnTransformer use this feature and define the default style\n",
       "- Estimators will overwrite some part of the style using the `sk-estimator` class\n",
       "*/\n",
       "\n",
       "/* Pipeline and ColumnTransformer style (default) */\n",
       "\n",
       "#sk-container-id-1 div.sk-toggleable {\n",
       "  /* Default theme specific background. It is overwritten whether we have a\n",
       "  specific estimator or a Pipeline/ColumnTransformer */\n",
       "  background-color: var(--sklearn-color-background);\n",
       "}\n",
       "\n",
       "/* Toggleable label */\n",
       "#sk-container-id-1 label.sk-toggleable__label {\n",
       "  cursor: pointer;\n",
       "  display: flex;\n",
       "  width: 100%;\n",
       "  margin-bottom: 0;\n",
       "  padding: 0.5em;\n",
       "  box-sizing: border-box;\n",
       "  text-align: center;\n",
       "  align-items: start;\n",
       "  justify-content: space-between;\n",
       "  gap: 0.5em;\n",
       "}\n",
       "\n",
       "#sk-container-id-1 label.sk-toggleable__label .caption {\n",
       "  font-size: 0.6rem;\n",
       "  font-weight: lighter;\n",
       "  color: var(--sklearn-color-text-muted);\n",
       "}\n",
       "\n",
       "#sk-container-id-1 label.sk-toggleable__label-arrow:before {\n",
       "  /* Arrow on the left of the label */\n",
       "  content: \"▸\";\n",
       "  float: left;\n",
       "  margin-right: 0.25em;\n",
       "  color: var(--sklearn-color-icon);\n",
       "}\n",
       "\n",
       "#sk-container-id-1 label.sk-toggleable__label-arrow:hover:before {\n",
       "  color: var(--sklearn-color-text);\n",
       "}\n",
       "\n",
       "/* Toggleable content - dropdown */\n",
       "\n",
       "#sk-container-id-1 div.sk-toggleable__content {\n",
       "  max-height: 0;\n",
       "  max-width: 0;\n",
       "  overflow: hidden;\n",
       "  text-align: left;\n",
       "  /* unfitted */\n",
       "  background-color: var(--sklearn-color-unfitted-level-0);\n",
       "}\n",
       "\n",
       "#sk-container-id-1 div.sk-toggleable__content.fitted {\n",
       "  /* fitted */\n",
       "  background-color: var(--sklearn-color-fitted-level-0);\n",
       "}\n",
       "\n",
       "#sk-container-id-1 div.sk-toggleable__content pre {\n",
       "  margin: 0.2em;\n",
       "  border-radius: 0.25em;\n",
       "  color: var(--sklearn-color-text);\n",
       "  /* unfitted */\n",
       "  background-color: var(--sklearn-color-unfitted-level-0);\n",
       "}\n",
       "\n",
       "#sk-container-id-1 div.sk-toggleable__content.fitted pre {\n",
       "  /* unfitted */\n",
       "  background-color: var(--sklearn-color-fitted-level-0);\n",
       "}\n",
       "\n",
       "#sk-container-id-1 input.sk-toggleable__control:checked~div.sk-toggleable__content {\n",
       "  /* Expand drop-down */\n",
       "  max-height: 200px;\n",
       "  max-width: 100%;\n",
       "  overflow: auto;\n",
       "}\n",
       "\n",
       "#sk-container-id-1 input.sk-toggleable__control:checked~label.sk-toggleable__label-arrow:before {\n",
       "  content: \"▾\";\n",
       "}\n",
       "\n",
       "/* Pipeline/ColumnTransformer-specific style */\n",
       "\n",
       "#sk-container-id-1 div.sk-label input.sk-toggleable__control:checked~label.sk-toggleable__label {\n",
       "  color: var(--sklearn-color-text);\n",
       "  background-color: var(--sklearn-color-unfitted-level-2);\n",
       "}\n",
       "\n",
       "#sk-container-id-1 div.sk-label.fitted input.sk-toggleable__control:checked~label.sk-toggleable__label {\n",
       "  background-color: var(--sklearn-color-fitted-level-2);\n",
       "}\n",
       "\n",
       "/* Estimator-specific style */\n",
       "\n",
       "/* Colorize estimator box */\n",
       "#sk-container-id-1 div.sk-estimator input.sk-toggleable__control:checked~label.sk-toggleable__label {\n",
       "  /* unfitted */\n",
       "  background-color: var(--sklearn-color-unfitted-level-2);\n",
       "}\n",
       "\n",
       "#sk-container-id-1 div.sk-estimator.fitted input.sk-toggleable__control:checked~label.sk-toggleable__label {\n",
       "  /* fitted */\n",
       "  background-color: var(--sklearn-color-fitted-level-2);\n",
       "}\n",
       "\n",
       "#sk-container-id-1 div.sk-label label.sk-toggleable__label,\n",
       "#sk-container-id-1 div.sk-label label {\n",
       "  /* The background is the default theme color */\n",
       "  color: var(--sklearn-color-text-on-default-background);\n",
       "}\n",
       "\n",
       "/* On hover, darken the color of the background */\n",
       "#sk-container-id-1 div.sk-label:hover label.sk-toggleable__label {\n",
       "  color: var(--sklearn-color-text);\n",
       "  background-color: var(--sklearn-color-unfitted-level-2);\n",
       "}\n",
       "\n",
       "/* Label box, darken color on hover, fitted */\n",
       "#sk-container-id-1 div.sk-label.fitted:hover label.sk-toggleable__label.fitted {\n",
       "  color: var(--sklearn-color-text);\n",
       "  background-color: var(--sklearn-color-fitted-level-2);\n",
       "}\n",
       "\n",
       "/* Estimator label */\n",
       "\n",
       "#sk-container-id-1 div.sk-label label {\n",
       "  font-family: monospace;\n",
       "  font-weight: bold;\n",
       "  display: inline-block;\n",
       "  line-height: 1.2em;\n",
       "}\n",
       "\n",
       "#sk-container-id-1 div.sk-label-container {\n",
       "  text-align: center;\n",
       "}\n",
       "\n",
       "/* Estimator-specific */\n",
       "#sk-container-id-1 div.sk-estimator {\n",
       "  font-family: monospace;\n",
       "  border: 1px dotted var(--sklearn-color-border-box);\n",
       "  border-radius: 0.25em;\n",
       "  box-sizing: border-box;\n",
       "  margin-bottom: 0.5em;\n",
       "  /* unfitted */\n",
       "  background-color: var(--sklearn-color-unfitted-level-0);\n",
       "}\n",
       "\n",
       "#sk-container-id-1 div.sk-estimator.fitted {\n",
       "  /* fitted */\n",
       "  background-color: var(--sklearn-color-fitted-level-0);\n",
       "}\n",
       "\n",
       "/* on hover */\n",
       "#sk-container-id-1 div.sk-estimator:hover {\n",
       "  /* unfitted */\n",
       "  background-color: var(--sklearn-color-unfitted-level-2);\n",
       "}\n",
       "\n",
       "#sk-container-id-1 div.sk-estimator.fitted:hover {\n",
       "  /* fitted */\n",
       "  background-color: var(--sklearn-color-fitted-level-2);\n",
       "}\n",
       "\n",
       "/* Specification for estimator info (e.g. \"i\" and \"?\") */\n",
       "\n",
       "/* Common style for \"i\" and \"?\" */\n",
       "\n",
       ".sk-estimator-doc-link,\n",
       "a:link.sk-estimator-doc-link,\n",
       "a:visited.sk-estimator-doc-link {\n",
       "  float: right;\n",
       "  font-size: smaller;\n",
       "  line-height: 1em;\n",
       "  font-family: monospace;\n",
       "  background-color: var(--sklearn-color-background);\n",
       "  border-radius: 1em;\n",
       "  height: 1em;\n",
       "  width: 1em;\n",
       "  text-decoration: none !important;\n",
       "  margin-left: 0.5em;\n",
       "  text-align: center;\n",
       "  /* unfitted */\n",
       "  border: var(--sklearn-color-unfitted-level-1) 1pt solid;\n",
       "  color: var(--sklearn-color-unfitted-level-1);\n",
       "}\n",
       "\n",
       ".sk-estimator-doc-link.fitted,\n",
       "a:link.sk-estimator-doc-link.fitted,\n",
       "a:visited.sk-estimator-doc-link.fitted {\n",
       "  /* fitted */\n",
       "  border: var(--sklearn-color-fitted-level-1) 1pt solid;\n",
       "  color: var(--sklearn-color-fitted-level-1);\n",
       "}\n",
       "\n",
       "/* On hover */\n",
       "div.sk-estimator:hover .sk-estimator-doc-link:hover,\n",
       ".sk-estimator-doc-link:hover,\n",
       "div.sk-label-container:hover .sk-estimator-doc-link:hover,\n",
       ".sk-estimator-doc-link:hover {\n",
       "  /* unfitted */\n",
       "  background-color: var(--sklearn-color-unfitted-level-3);\n",
       "  color: var(--sklearn-color-background);\n",
       "  text-decoration: none;\n",
       "}\n",
       "\n",
       "div.sk-estimator.fitted:hover .sk-estimator-doc-link.fitted:hover,\n",
       ".sk-estimator-doc-link.fitted:hover,\n",
       "div.sk-label-container:hover .sk-estimator-doc-link.fitted:hover,\n",
       ".sk-estimator-doc-link.fitted:hover {\n",
       "  /* fitted */\n",
       "  background-color: var(--sklearn-color-fitted-level-3);\n",
       "  color: var(--sklearn-color-background);\n",
       "  text-decoration: none;\n",
       "}\n",
       "\n",
       "/* Span, style for the box shown on hovering the info icon */\n",
       ".sk-estimator-doc-link span {\n",
       "  display: none;\n",
       "  z-index: 9999;\n",
       "  position: relative;\n",
       "  font-weight: normal;\n",
       "  right: .2ex;\n",
       "  padding: .5ex;\n",
       "  margin: .5ex;\n",
       "  width: min-content;\n",
       "  min-width: 20ex;\n",
       "  max-width: 50ex;\n",
       "  color: var(--sklearn-color-text);\n",
       "  box-shadow: 2pt 2pt 4pt #999;\n",
       "  /* unfitted */\n",
       "  background: var(--sklearn-color-unfitted-level-0);\n",
       "  border: .5pt solid var(--sklearn-color-unfitted-level-3);\n",
       "}\n",
       "\n",
       ".sk-estimator-doc-link.fitted span {\n",
       "  /* fitted */\n",
       "  background: var(--sklearn-color-fitted-level-0);\n",
       "  border: var(--sklearn-color-fitted-level-3);\n",
       "}\n",
       "\n",
       ".sk-estimator-doc-link:hover span {\n",
       "  display: block;\n",
       "}\n",
       "\n",
       "/* \"?\"-specific style due to the `<a>` HTML tag */\n",
       "\n",
       "#sk-container-id-1 a.estimator_doc_link {\n",
       "  float: right;\n",
       "  font-size: 1rem;\n",
       "  line-height: 1em;\n",
       "  font-family: monospace;\n",
       "  background-color: var(--sklearn-color-background);\n",
       "  border-radius: 1rem;\n",
       "  height: 1rem;\n",
       "  width: 1rem;\n",
       "  text-decoration: none;\n",
       "  /* unfitted */\n",
       "  color: var(--sklearn-color-unfitted-level-1);\n",
       "  border: var(--sklearn-color-unfitted-level-1) 1pt solid;\n",
       "}\n",
       "\n",
       "#sk-container-id-1 a.estimator_doc_link.fitted {\n",
       "  /* fitted */\n",
       "  border: var(--sklearn-color-fitted-level-1) 1pt solid;\n",
       "  color: var(--sklearn-color-fitted-level-1);\n",
       "}\n",
       "\n",
       "/* On hover */\n",
       "#sk-container-id-1 a.estimator_doc_link:hover {\n",
       "  /* unfitted */\n",
       "  background-color: var(--sklearn-color-unfitted-level-3);\n",
       "  color: var(--sklearn-color-background);\n",
       "  text-decoration: none;\n",
       "}\n",
       "\n",
       "#sk-container-id-1 a.estimator_doc_link.fitted:hover {\n",
       "  /* fitted */\n",
       "  background-color: var(--sklearn-color-fitted-level-3);\n",
       "}\n",
       "</style><div id=\"sk-container-id-1\" class=\"sk-top-container\"><div class=\"sk-text-repr-fallback\"><pre>Pipeline(steps=[(&#x27;tfidf&#x27;, TfidfVectorizer(max_features=5000)),\n",
       "                (&#x27;logistic_regression&#x27;, LogisticRegression(max_iter=1000))])</pre><b>In a Jupyter environment, please rerun this cell to show the HTML representation or trust the notebook. <br />On GitHub, the HTML representation is unable to render, please try loading this page with nbviewer.org.</b></div><div class=\"sk-container\" hidden><div class=\"sk-item sk-dashed-wrapped\"><div class=\"sk-label-container\"><div class=\"sk-label fitted sk-toggleable\"><input class=\"sk-toggleable__control sk-hidden--visually\" id=\"sk-estimator-id-1\" type=\"checkbox\" ><label for=\"sk-estimator-id-1\" class=\"sk-toggleable__label fitted sk-toggleable__label-arrow\"><div><div>Pipeline</div></div><div><a class=\"sk-estimator-doc-link fitted\" rel=\"noreferrer\" target=\"_blank\" href=\"https://scikit-learn.org/1.6/modules/generated/sklearn.pipeline.Pipeline.html\">?<span>Documentation for Pipeline</span></a><span class=\"sk-estimator-doc-link fitted\">i<span>Fitted</span></span></div></label><div class=\"sk-toggleable__content fitted\"><pre>Pipeline(steps=[(&#x27;tfidf&#x27;, TfidfVectorizer(max_features=5000)),\n",
       "                (&#x27;logistic_regression&#x27;, LogisticRegression(max_iter=1000))])</pre></div> </div></div><div class=\"sk-serial\"><div class=\"sk-item\"><div class=\"sk-estimator fitted sk-toggleable\"><input class=\"sk-toggleable__control sk-hidden--visually\" id=\"sk-estimator-id-2\" type=\"checkbox\" ><label for=\"sk-estimator-id-2\" class=\"sk-toggleable__label fitted sk-toggleable__label-arrow\"><div><div>TfidfVectorizer</div></div><div><a class=\"sk-estimator-doc-link fitted\" rel=\"noreferrer\" target=\"_blank\" href=\"https://scikit-learn.org/1.6/modules/generated/sklearn.feature_extraction.text.TfidfVectorizer.html\">?<span>Documentation for TfidfVectorizer</span></a></div></label><div class=\"sk-toggleable__content fitted\"><pre>TfidfVectorizer(max_features=5000)</pre></div> </div></div><div class=\"sk-item\"><div class=\"sk-estimator fitted sk-toggleable\"><input class=\"sk-toggleable__control sk-hidden--visually\" id=\"sk-estimator-id-3\" type=\"checkbox\" ><label for=\"sk-estimator-id-3\" class=\"sk-toggleable__label fitted sk-toggleable__label-arrow\"><div><div>LogisticRegression</div></div><div><a class=\"sk-estimator-doc-link fitted\" rel=\"noreferrer\" target=\"_blank\" href=\"https://scikit-learn.org/1.6/modules/generated/sklearn.linear_model.LogisticRegression.html\">?<span>Documentation for LogisticRegression</span></a></div></label><div class=\"sk-toggleable__content fitted\"><pre>LogisticRegression(max_iter=1000)</pre></div> </div></div></div></div></div></div>"
      ],
      "text/plain": [
       "Pipeline(steps=[('tfidf', TfidfVectorizer(max_features=5000)),\n",
       "                ('logistic_regression', LogisticRegression(max_iter=1000))])"
      ]
     },
     "execution_count": 42,
     "metadata": {},
     "output_type": "execute_result"
    }
   ],
   "source": [
    "Pipeline_model.fit(X_train, y_train_encoded) # Train the model"
   ]
  },
  {
   "cell_type": "code",
   "execution_count": 43,
   "metadata": {},
   "outputs": [],
   "source": [
    "pipe_predictions_tr = Pipeline_model.predict(X_train) # Make predictions on the training data\n",
    "pipe_predictions_te = Pipeline_model.predict(X_test) # Make predictions on the testing data"
   ]
  },
  {
   "cell_type": "code",
   "execution_count": 44,
   "metadata": {},
   "outputs": [
    {
     "name": "stdout",
     "output_type": "stream",
     "text": [
      "              precision    recall  f1-score   support\n",
      "\n",
      "           0       0.97      0.48      0.64        65\n",
      "           1       0.89      0.53      0.67        88\n",
      "           2       1.00      0.09      0.17        44\n",
      "           3       0.71      0.99      0.83       378\n",
      "           4       0.92      0.55      0.69       105\n",
      "\n",
      "    accuracy                           0.76       680\n",
      "   macro avg       0.90      0.53      0.60       680\n",
      "weighted avg       0.81      0.76      0.73       680\n",
      "\n"
     ]
    }
   ],
   "source": [
    "print(report(y_test_encoded, pipe_predictions_te))"
   ]
  },
  {
   "cell_type": "code",
   "execution_count": 45,
   "metadata": {},
   "outputs": [
    {
     "name": "stdout",
     "output_type": "stream",
     "text": [
      "              precision    recall  f1-score   support\n",
      "\n",
      "           0       0.98      0.67      0.79       212\n",
      "           1       0.95      0.62      0.75       431\n",
      "           2       1.00      0.31      0.47       167\n",
      "           3       0.81      1.00      0.89      1486\n",
      "           4       0.94      0.89      0.92       421\n",
      "\n",
      "    accuracy                           0.85      2717\n",
      "   macro avg       0.93      0.70      0.76      2717\n",
      "weighted avg       0.87      0.85      0.84      2717\n",
      "\n"
     ]
    }
   ],
   "source": [
    "print(report(y_train_encoded, pipe_predictions_tr))"
   ]
  },
  {
   "cell_type": "code",
   "execution_count": 46,
   "metadata": {},
   "outputs": [],
   "source": [
    "import pickle"
   ]
  },
  {
   "cell_type": "code",
   "execution_count": 47,
   "metadata": {},
   "outputs": [],
   "source": [
    "pickle.dump(Pipeline_model, open('model.pkl', 'wb')) # Save the model"
   ]
  },
  {
   "cell_type": "code",
   "execution_count": 48,
   "metadata": {},
   "outputs": [],
   "source": [
    "model = pickle.load(open('model.pkl', 'rb')) # Load the model"
   ]
  },
  {
   "cell_type": "code",
   "execution_count": 49,
   "metadata": {},
   "outputs": [],
   "source": [
    "pr = preprocess_text(\"Hi! This is a worst ruling party since the independence of India. They are not able to handle the country properly. They are just making the people fool.\")"
   ]
  },
  {
   "cell_type": "code",
   "execution_count": 51,
   "metadata": {},
   "outputs": [],
   "source": [
    "label = {0: 'center', 1: 'lean left', 2: 'lean right', 3: 'left', 4: 'right'}"
   ]
  },
  {
   "cell_type": "code",
   "execution_count": null,
   "metadata": {},
   "outputs": [],
   "source": [
    "label[Pipeline_model.predict([pr])[0]]"
   ]
  }
 ],
 "metadata": {
  "kernelspec": {
   "display_name": "myenv",
   "language": "python",
   "name": "python3"
  },
  "language_info": {
   "codemirror_mode": {
    "name": "ipython",
    "version": 3
   },
   "file_extension": ".py",
   "mimetype": "text/x-python",
   "name": "python",
   "nbconvert_exporter": "python",
   "pygments_lexer": "ipython3",
   "version": "3.12.8"
  }
 },
 "nbformat": 4,
 "nbformat_minor": 2
}
